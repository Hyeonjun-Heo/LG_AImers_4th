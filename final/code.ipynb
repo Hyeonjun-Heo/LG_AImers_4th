{
 "cells": [
  {
   "cell_type": "markdown",
   "id": "017e9265",
   "metadata": {},
   "source": [
    "# 영업 성공 여부 분류 경진대회"
   ]
  },
  {
   "cell_type": "markdown",
   "id": "acdab431",
   "metadata": {},
   "source": [
    "## 1. 데이터 확인"
   ]
  },
  {
   "cell_type": "markdown",
   "id": "2b8341e8",
   "metadata": {},
   "source": [
    "### 필수 라이브러리"
   ]
  },
  {
   "cell_type": "code",
   "execution_count": 1,
   "id": "a315cc58",
   "metadata": {},
   "outputs": [],
   "source": [
    "import pandas as pd\n",
    "import numpy as np\n",
    "from sklearn.metrics import (\n",
    "    accuracy_score,\n",
    "    confusion_matrix,\n",
    "    f1_score,\n",
    "    precision_score,\n",
    "    recall_score,\n",
    ")\n",
    "from sklearn.model_selection import train_test_split\n",
    "from sklearn.tree import DecisionTreeClassifier\n",
    "import seaborn as sns\n",
    "import matplotlib.pyplot as plt\n",
    "from sklearn.preprocessing import MinMaxScaler"
   ]
  },
  {
   "cell_type": "code",
   "execution_count": 2,
   "id": "193152e4-690f-4b83-8e40-8326e42ca1fe",
   "metadata": {},
   "outputs": [],
   "source": [
    "import warnings\n",
    "warnings.filterwarnings(\"ignore\")"
   ]
  },
  {
   "cell_type": "markdown",
   "id": "412f98cc",
   "metadata": {},
   "source": [
    "### 데이터 셋 읽어오기"
   ]
  },
  {
   "cell_type": "code",
   "execution_count": 3,
   "id": "7ada941e",
   "metadata": {},
   "outputs": [],
   "source": [
    "df = pd.read_csv(\"train.csv\") # 학습용 데이터\n",
    "df_test = pd.read_csv(\"submission.csv\") # 테스트 데이터(제출파일의 데이터)"
   ]
  },
  {
   "cell_type": "code",
   "execution_count": 4,
   "id": "af40575b",
   "metadata": {},
   "outputs": [
    {
     "data": {
      "text/html": [
       "<div>\n",
       "<style scoped>\n",
       "    .dataframe tbody tr th:only-of-type {\n",
       "        vertical-align: middle;\n",
       "    }\n",
       "\n",
       "    .dataframe tbody tr th {\n",
       "        vertical-align: top;\n",
       "    }\n",
       "\n",
       "    .dataframe thead th {\n",
       "        text-align: right;\n",
       "    }\n",
       "</style>\n",
       "<table border=\"1\" class=\"dataframe\">\n",
       "  <thead>\n",
       "    <tr style=\"text-align: right;\">\n",
       "      <th></th>\n",
       "      <th>bant_submit</th>\n",
       "      <th>customer_country</th>\n",
       "      <th>business_unit</th>\n",
       "      <th>com_reg_ver_win_rate</th>\n",
       "      <th>customer_idx</th>\n",
       "      <th>customer_type</th>\n",
       "      <th>enterprise</th>\n",
       "      <th>historical_existing_cnt</th>\n",
       "      <th>id_strategic_ver</th>\n",
       "      <th>it_strategic_ver</th>\n",
       "      <th>...</th>\n",
       "      <th>customer_position</th>\n",
       "      <th>response_corporate</th>\n",
       "      <th>expected_timeline</th>\n",
       "      <th>ver_cus</th>\n",
       "      <th>ver_pro</th>\n",
       "      <th>ver_win_rate_x</th>\n",
       "      <th>ver_win_ratio_per_bu</th>\n",
       "      <th>business_area</th>\n",
       "      <th>lead_owner</th>\n",
       "      <th>is_converted</th>\n",
       "    </tr>\n",
       "  </thead>\n",
       "  <tbody>\n",
       "    <tr>\n",
       "      <th>0</th>\n",
       "      <td>1.00</td>\n",
       "      <td>/Quezon City/Philippines</td>\n",
       "      <td>AS</td>\n",
       "      <td>0.066667</td>\n",
       "      <td>32160</td>\n",
       "      <td>End-Customer</td>\n",
       "      <td>Enterprise</td>\n",
       "      <td>NaN</td>\n",
       "      <td>NaN</td>\n",
       "      <td>NaN</td>\n",
       "      <td>...</td>\n",
       "      <td>entry level</td>\n",
       "      <td>LGEPH</td>\n",
       "      <td>less than 3 months</td>\n",
       "      <td>1</td>\n",
       "      <td>0</td>\n",
       "      <td>0.003079</td>\n",
       "      <td>0.026846</td>\n",
       "      <td>corporate / office</td>\n",
       "      <td>0</td>\n",
       "      <td>True</td>\n",
       "    </tr>\n",
       "    <tr>\n",
       "      <th>1</th>\n",
       "      <td>1.00</td>\n",
       "      <td>/PH-00/Philippines</td>\n",
       "      <td>AS</td>\n",
       "      <td>0.066667</td>\n",
       "      <td>23122</td>\n",
       "      <td>End-Customer</td>\n",
       "      <td>Enterprise</td>\n",
       "      <td>12.0</td>\n",
       "      <td>NaN</td>\n",
       "      <td>NaN</td>\n",
       "      <td>...</td>\n",
       "      <td>ceo/founder</td>\n",
       "      <td>LGEPH</td>\n",
       "      <td>less than 3 months</td>\n",
       "      <td>1</td>\n",
       "      <td>0</td>\n",
       "      <td>0.003079</td>\n",
       "      <td>0.026846</td>\n",
       "      <td>corporate / office</td>\n",
       "      <td>1</td>\n",
       "      <td>True</td>\n",
       "    </tr>\n",
       "    <tr>\n",
       "      <th>2</th>\n",
       "      <td>1.00</td>\n",
       "      <td>/Kolkata /India</td>\n",
       "      <td>AS</td>\n",
       "      <td>0.088889</td>\n",
       "      <td>1755</td>\n",
       "      <td>End-Customer</td>\n",
       "      <td>Enterprise</td>\n",
       "      <td>144.0</td>\n",
       "      <td>NaN</td>\n",
       "      <td>NaN</td>\n",
       "      <td>...</td>\n",
       "      <td>partner</td>\n",
       "      <td>LGEIL</td>\n",
       "      <td>less than 3 months</td>\n",
       "      <td>1</td>\n",
       "      <td>0</td>\n",
       "      <td>0.003079</td>\n",
       "      <td>0.026846</td>\n",
       "      <td>corporate / office</td>\n",
       "      <td>2</td>\n",
       "      <td>True</td>\n",
       "    </tr>\n",
       "    <tr>\n",
       "      <th>3</th>\n",
       "      <td>1.00</td>\n",
       "      <td>/Bhubaneswar/India</td>\n",
       "      <td>AS</td>\n",
       "      <td>0.088889</td>\n",
       "      <td>4919</td>\n",
       "      <td>End-Customer</td>\n",
       "      <td>Enterprise</td>\n",
       "      <td>NaN</td>\n",
       "      <td>NaN</td>\n",
       "      <td>NaN</td>\n",
       "      <td>...</td>\n",
       "      <td>ceo/founder</td>\n",
       "      <td>LGEIL</td>\n",
       "      <td>less than 3 months</td>\n",
       "      <td>1</td>\n",
       "      <td>0</td>\n",
       "      <td>0.003079</td>\n",
       "      <td>0.026846</td>\n",
       "      <td>corporate / office</td>\n",
       "      <td>3</td>\n",
       "      <td>True</td>\n",
       "    </tr>\n",
       "    <tr>\n",
       "      <th>4</th>\n",
       "      <td>1.00</td>\n",
       "      <td>/Hyderabad/India</td>\n",
       "      <td>AS</td>\n",
       "      <td>0.088889</td>\n",
       "      <td>17126</td>\n",
       "      <td>Specifier/ Influencer</td>\n",
       "      <td>Enterprise</td>\n",
       "      <td>NaN</td>\n",
       "      <td>NaN</td>\n",
       "      <td>NaN</td>\n",
       "      <td>...</td>\n",
       "      <td>partner</td>\n",
       "      <td>LGEIL</td>\n",
       "      <td>less than 3 months</td>\n",
       "      <td>0</td>\n",
       "      <td>0</td>\n",
       "      <td>0.003079</td>\n",
       "      <td>0.026846</td>\n",
       "      <td>corporate / office</td>\n",
       "      <td>4</td>\n",
       "      <td>True</td>\n",
       "    </tr>\n",
       "    <tr>\n",
       "      <th>...</th>\n",
       "      <td>...</td>\n",
       "      <td>...</td>\n",
       "      <td>...</td>\n",
       "      <td>...</td>\n",
       "      <td>...</td>\n",
       "      <td>...</td>\n",
       "      <td>...</td>\n",
       "      <td>...</td>\n",
       "      <td>...</td>\n",
       "      <td>...</td>\n",
       "      <td>...</td>\n",
       "      <td>...</td>\n",
       "      <td>...</td>\n",
       "      <td>...</td>\n",
       "      <td>...</td>\n",
       "      <td>...</td>\n",
       "      <td>...</td>\n",
       "      <td>...</td>\n",
       "      <td>...</td>\n",
       "      <td>...</td>\n",
       "      <td>...</td>\n",
       "    </tr>\n",
       "    <tr>\n",
       "      <th>59294</th>\n",
       "      <td>1.00</td>\n",
       "      <td>/Sląskie/Poland</td>\n",
       "      <td>AS</td>\n",
       "      <td>NaN</td>\n",
       "      <td>33747</td>\n",
       "      <td>End Customer</td>\n",
       "      <td>SMB</td>\n",
       "      <td>NaN</td>\n",
       "      <td>NaN</td>\n",
       "      <td>NaN</td>\n",
       "      <td>...</td>\n",
       "      <td>entry level</td>\n",
       "      <td>LGEPL</td>\n",
       "      <td>3 months ~ 6 months</td>\n",
       "      <td>0</td>\n",
       "      <td>0</td>\n",
       "      <td>0.000026</td>\n",
       "      <td>0.028777</td>\n",
       "      <td>public facility</td>\n",
       "      <td>694</td>\n",
       "      <td>False</td>\n",
       "    </tr>\n",
       "    <tr>\n",
       "      <th>59295</th>\n",
       "      <td>0.75</td>\n",
       "      <td>/Bogotá DC /Colombia</td>\n",
       "      <td>AS</td>\n",
       "      <td>0.040000</td>\n",
       "      <td>35420</td>\n",
       "      <td>Specifier/ Influencer</td>\n",
       "      <td>Enterprise</td>\n",
       "      <td>NaN</td>\n",
       "      <td>NaN</td>\n",
       "      <td>NaN</td>\n",
       "      <td>...</td>\n",
       "      <td>trainee</td>\n",
       "      <td>LGECB</td>\n",
       "      <td>9 months ~ 1 year</td>\n",
       "      <td>0</td>\n",
       "      <td>0</td>\n",
       "      <td>0.000026</td>\n",
       "      <td>0.028777</td>\n",
       "      <td>public facility</td>\n",
       "      <td>39</td>\n",
       "      <td>False</td>\n",
       "    </tr>\n",
       "    <tr>\n",
       "      <th>59296</th>\n",
       "      <td>0.75</td>\n",
       "      <td>/Pisco/Peru</td>\n",
       "      <td>AS</td>\n",
       "      <td>0.040000</td>\n",
       "      <td>19249</td>\n",
       "      <td>Specifier/ Influencer</td>\n",
       "      <td>Enterprise</td>\n",
       "      <td>NaN</td>\n",
       "      <td>NaN</td>\n",
       "      <td>NaN</td>\n",
       "      <td>...</td>\n",
       "      <td>entry level</td>\n",
       "      <td>LGEPR</td>\n",
       "      <td>less than 3 months</td>\n",
       "      <td>0</td>\n",
       "      <td>0</td>\n",
       "      <td>0.000026</td>\n",
       "      <td>0.028777</td>\n",
       "      <td>public facility</td>\n",
       "      <td>125</td>\n",
       "      <td>False</td>\n",
       "    </tr>\n",
       "    <tr>\n",
       "      <th>59297</th>\n",
       "      <td>1.00</td>\n",
       "      <td>/santa cruz bolivia/Peru</td>\n",
       "      <td>AS</td>\n",
       "      <td>0.040000</td>\n",
       "      <td>40327</td>\n",
       "      <td>NaN</td>\n",
       "      <td>Enterprise</td>\n",
       "      <td>NaN</td>\n",
       "      <td>NaN</td>\n",
       "      <td>NaN</td>\n",
       "      <td>...</td>\n",
       "      <td>others</td>\n",
       "      <td>LGEPR</td>\n",
       "      <td>more than a year</td>\n",
       "      <td>0</td>\n",
       "      <td>0</td>\n",
       "      <td>0.000026</td>\n",
       "      <td>0.028777</td>\n",
       "      <td>public facility</td>\n",
       "      <td>134</td>\n",
       "      <td>False</td>\n",
       "    </tr>\n",
       "    <tr>\n",
       "      <th>59298</th>\n",
       "      <td>0.75</td>\n",
       "      <td>/paris/France</td>\n",
       "      <td>Solution</td>\n",
       "      <td>NaN</td>\n",
       "      <td>30268</td>\n",
       "      <td>NaN</td>\n",
       "      <td>Enterprise</td>\n",
       "      <td>NaN</td>\n",
       "      <td>NaN</td>\n",
       "      <td>NaN</td>\n",
       "      <td>...</td>\n",
       "      <td>ceo/founder</td>\n",
       "      <td>LGEKR</td>\n",
       "      <td>less than 3 months</td>\n",
       "      <td>0</td>\n",
       "      <td>0</td>\n",
       "      <td>0.000026</td>\n",
       "      <td>NaN</td>\n",
       "      <td>public facility</td>\n",
       "      <td>441</td>\n",
       "      <td>False</td>\n",
       "    </tr>\n",
       "  </tbody>\n",
       "</table>\n",
       "<p>59299 rows × 25 columns</p>\n",
       "</div>"
      ],
      "text/plain": [
       "       bant_submit          customer_country business_unit  \\\n",
       "0             1.00  /Quezon City/Philippines            AS   \n",
       "1             1.00        /PH-00/Philippines            AS   \n",
       "2             1.00           /Kolkata /India            AS   \n",
       "3             1.00        /Bhubaneswar/India            AS   \n",
       "4             1.00          /Hyderabad/India            AS   \n",
       "...            ...                       ...           ...   \n",
       "59294         1.00           /Sląskie/Poland            AS   \n",
       "59295         0.75      /Bogotá DC /Colombia            AS   \n",
       "59296         0.75               /Pisco/Peru            AS   \n",
       "59297         1.00  /santa cruz bolivia/Peru            AS   \n",
       "59298         0.75             /paris/France      Solution   \n",
       "\n",
       "       com_reg_ver_win_rate  customer_idx          customer_type  enterprise  \\\n",
       "0                  0.066667         32160           End-Customer  Enterprise   \n",
       "1                  0.066667         23122           End-Customer  Enterprise   \n",
       "2                  0.088889          1755           End-Customer  Enterprise   \n",
       "3                  0.088889          4919           End-Customer  Enterprise   \n",
       "4                  0.088889         17126  Specifier/ Influencer  Enterprise   \n",
       "...                     ...           ...                    ...         ...   \n",
       "59294                   NaN         33747           End Customer         SMB   \n",
       "59295              0.040000         35420  Specifier/ Influencer  Enterprise   \n",
       "59296              0.040000         19249  Specifier/ Influencer  Enterprise   \n",
       "59297              0.040000         40327                    NaN  Enterprise   \n",
       "59298                   NaN         30268                    NaN  Enterprise   \n",
       "\n",
       "       historical_existing_cnt  id_strategic_ver  it_strategic_ver  ...  \\\n",
       "0                          NaN               NaN               NaN  ...   \n",
       "1                         12.0               NaN               NaN  ...   \n",
       "2                        144.0               NaN               NaN  ...   \n",
       "3                          NaN               NaN               NaN  ...   \n",
       "4                          NaN               NaN               NaN  ...   \n",
       "...                        ...               ...               ...  ...   \n",
       "59294                      NaN               NaN               NaN  ...   \n",
       "59295                      NaN               NaN               NaN  ...   \n",
       "59296                      NaN               NaN               NaN  ...   \n",
       "59297                      NaN               NaN               NaN  ...   \n",
       "59298                      NaN               NaN               NaN  ...   \n",
       "\n",
       "       customer_position response_corporate    expected_timeline ver_cus  \\\n",
       "0            entry level              LGEPH   less than 3 months       1   \n",
       "1            ceo/founder              LGEPH   less than 3 months       1   \n",
       "2                partner              LGEIL   less than 3 months       1   \n",
       "3            ceo/founder              LGEIL   less than 3 months       1   \n",
       "4                partner              LGEIL   less than 3 months       0   \n",
       "...                  ...                ...                  ...     ...   \n",
       "59294        entry level              LGEPL  3 months ~ 6 months       0   \n",
       "59295            trainee              LGECB    9 months ~ 1 year       0   \n",
       "59296        entry level              LGEPR   less than 3 months       0   \n",
       "59297             others              LGEPR     more than a year       0   \n",
       "59298        ceo/founder              LGEKR   less than 3 months       0   \n",
       "\n",
       "      ver_pro ver_win_rate_x ver_win_ratio_per_bu       business_area  \\\n",
       "0           0       0.003079             0.026846  corporate / office   \n",
       "1           0       0.003079             0.026846  corporate / office   \n",
       "2           0       0.003079             0.026846  corporate / office   \n",
       "3           0       0.003079             0.026846  corporate / office   \n",
       "4           0       0.003079             0.026846  corporate / office   \n",
       "...       ...            ...                  ...                 ...   \n",
       "59294       0       0.000026             0.028777     public facility   \n",
       "59295       0       0.000026             0.028777     public facility   \n",
       "59296       0       0.000026             0.028777     public facility   \n",
       "59297       0       0.000026             0.028777     public facility   \n",
       "59298       0       0.000026                  NaN     public facility   \n",
       "\n",
       "       lead_owner  is_converted  \n",
       "0               0          True  \n",
       "1               1          True  \n",
       "2               2          True  \n",
       "3               3          True  \n",
       "4               4          True  \n",
       "...           ...           ...  \n",
       "59294         694         False  \n",
       "59295          39         False  \n",
       "59296         125         False  \n",
       "59297         134         False  \n",
       "59298         441         False  \n",
       "\n",
       "[59299 rows x 25 columns]"
      ]
     },
     "execution_count": 4,
     "metadata": {},
     "output_type": "execute_result"
    }
   ],
   "source": [
    "df = df.drop(['product_subcategory', 'product_modelname', 'business_subarea',\n",
    "                          'customer_country.1'], axis = 1)\n",
    "df"
   ]
  },
  {
   "cell_type": "code",
   "execution_count": 5,
   "id": "603b871b-7d83-4952-bd05-0badb4bd0f5c",
   "metadata": {},
   "outputs": [
    {
     "name": "stdout",
     "output_type": "stream",
     "text": [
      "<class 'pandas.core.frame.DataFrame'>\n",
      "RangeIndex: 59299 entries, 0 to 59298\n",
      "Data columns (total 25 columns):\n",
      " #   Column                   Non-Null Count  Dtype  \n",
      "---  ------                   --------------  -----  \n",
      " 0   bant_submit              59299 non-null  float64\n",
      " 1   customer_country         58317 non-null  object \n",
      " 2   business_unit            59299 non-null  object \n",
      " 3   com_reg_ver_win_rate     14568 non-null  float64\n",
      " 4   customer_idx             59299 non-null  int64  \n",
      " 5   customer_type            15338 non-null  object \n",
      " 6   enterprise               59299 non-null  object \n",
      " 7   historical_existing_cnt  13756 non-null  float64\n",
      " 8   id_strategic_ver         3444 non-null   float64\n",
      " 9   it_strategic_ver         1121 non-null   float64\n",
      " 10  idit_strategic_ver       4565 non-null   float64\n",
      " 11  customer_job             40566 non-null  object \n",
      " 12  lead_desc_length         59299 non-null  int64  \n",
      " 13  inquiry_type             58358 non-null  object \n",
      " 14  product_category         39925 non-null  object \n",
      " 15  customer_position        59299 non-null  object \n",
      " 16  response_corporate       59299 non-null  object \n",
      " 17  expected_timeline        28436 non-null  object \n",
      " 18  ver_cus                  59299 non-null  int64  \n",
      " 19  ver_pro                  59299 non-null  int64  \n",
      " 20  ver_win_rate_x           18417 non-null  float64\n",
      " 21  ver_win_ratio_per_bu     15304 non-null  float64\n",
      " 22  business_area            18417 non-null  object \n",
      " 23  lead_owner               59299 non-null  int64  \n",
      " 24  is_converted             59299 non-null  bool   \n",
      "dtypes: bool(1), float64(8), int64(5), object(11)\n",
      "memory usage: 10.9+ MB\n"
     ]
    }
   ],
   "source": [
    "df.info()"
   ]
  },
  {
   "cell_type": "code",
   "execution_count": 6,
   "id": "7fb873ab",
   "metadata": {},
   "outputs": [
    {
     "data": {
      "text/html": [
       "<div>\n",
       "<style scoped>\n",
       "    .dataframe tbody tr th:only-of-type {\n",
       "        vertical-align: middle;\n",
       "    }\n",
       "\n",
       "    .dataframe tbody tr th {\n",
       "        vertical-align: top;\n",
       "    }\n",
       "\n",
       "    .dataframe thead th {\n",
       "        text-align: right;\n",
       "    }\n",
       "</style>\n",
       "<table border=\"1\" class=\"dataframe\">\n",
       "  <thead>\n",
       "    <tr style=\"text-align: right;\">\n",
       "      <th></th>\n",
       "      <th>bant_submit</th>\n",
       "      <th>customer_country</th>\n",
       "      <th>business_unit</th>\n",
       "      <th>com_reg_ver_win_rate</th>\n",
       "      <th>customer_idx</th>\n",
       "      <th>customer_type</th>\n",
       "      <th>enterprise</th>\n",
       "      <th>historical_existing_cnt</th>\n",
       "      <th>id_strategic_ver</th>\n",
       "      <th>it_strategic_ver</th>\n",
       "      <th>...</th>\n",
       "      <th>customer_position</th>\n",
       "      <th>response_corporate</th>\n",
       "      <th>expected_timeline</th>\n",
       "      <th>ver_cus</th>\n",
       "      <th>ver_pro</th>\n",
       "      <th>ver_win_rate_x</th>\n",
       "      <th>ver_win_ratio_per_bu</th>\n",
       "      <th>business_area</th>\n",
       "      <th>lead_owner</th>\n",
       "      <th>is_converted</th>\n",
       "    </tr>\n",
       "  </thead>\n",
       "  <tbody>\n",
       "    <tr>\n",
       "      <th>0</th>\n",
       "      <td>1.0</td>\n",
       "      <td>/Quezon City/Philippines</td>\n",
       "      <td>AS</td>\n",
       "      <td>0.066667</td>\n",
       "      <td>32160</td>\n",
       "      <td>End-Customer</td>\n",
       "      <td>Enterprise</td>\n",
       "      <td>NaN</td>\n",
       "      <td>NaN</td>\n",
       "      <td>NaN</td>\n",
       "      <td>...</td>\n",
       "      <td>entry level</td>\n",
       "      <td>LGEPH</td>\n",
       "      <td>less than 3 months</td>\n",
       "      <td>1</td>\n",
       "      <td>0</td>\n",
       "      <td>0.003079</td>\n",
       "      <td>0.026846</td>\n",
       "      <td>corporate / office</td>\n",
       "      <td>0</td>\n",
       "      <td>True</td>\n",
       "    </tr>\n",
       "    <tr>\n",
       "      <th>1</th>\n",
       "      <td>1.0</td>\n",
       "      <td>/PH-00/Philippines</td>\n",
       "      <td>AS</td>\n",
       "      <td>0.066667</td>\n",
       "      <td>23122</td>\n",
       "      <td>End-Customer</td>\n",
       "      <td>Enterprise</td>\n",
       "      <td>12.0</td>\n",
       "      <td>NaN</td>\n",
       "      <td>NaN</td>\n",
       "      <td>...</td>\n",
       "      <td>ceo/founder</td>\n",
       "      <td>LGEPH</td>\n",
       "      <td>less than 3 months</td>\n",
       "      <td>1</td>\n",
       "      <td>0</td>\n",
       "      <td>0.003079</td>\n",
       "      <td>0.026846</td>\n",
       "      <td>corporate / office</td>\n",
       "      <td>1</td>\n",
       "      <td>True</td>\n",
       "    </tr>\n",
       "    <tr>\n",
       "      <th>2</th>\n",
       "      <td>1.0</td>\n",
       "      <td>/Kolkata /India</td>\n",
       "      <td>AS</td>\n",
       "      <td>0.088889</td>\n",
       "      <td>1755</td>\n",
       "      <td>End-Customer</td>\n",
       "      <td>Enterprise</td>\n",
       "      <td>144.0</td>\n",
       "      <td>NaN</td>\n",
       "      <td>NaN</td>\n",
       "      <td>...</td>\n",
       "      <td>partner</td>\n",
       "      <td>LGEIL</td>\n",
       "      <td>less than 3 months</td>\n",
       "      <td>1</td>\n",
       "      <td>0</td>\n",
       "      <td>0.003079</td>\n",
       "      <td>0.026846</td>\n",
       "      <td>corporate / office</td>\n",
       "      <td>2</td>\n",
       "      <td>True</td>\n",
       "    </tr>\n",
       "    <tr>\n",
       "      <th>3</th>\n",
       "      <td>1.0</td>\n",
       "      <td>/Bhubaneswar/India</td>\n",
       "      <td>AS</td>\n",
       "      <td>0.088889</td>\n",
       "      <td>4919</td>\n",
       "      <td>End-Customer</td>\n",
       "      <td>Enterprise</td>\n",
       "      <td>NaN</td>\n",
       "      <td>NaN</td>\n",
       "      <td>NaN</td>\n",
       "      <td>...</td>\n",
       "      <td>ceo/founder</td>\n",
       "      <td>LGEIL</td>\n",
       "      <td>less than 3 months</td>\n",
       "      <td>1</td>\n",
       "      <td>0</td>\n",
       "      <td>0.003079</td>\n",
       "      <td>0.026846</td>\n",
       "      <td>corporate / office</td>\n",
       "      <td>3</td>\n",
       "      <td>True</td>\n",
       "    </tr>\n",
       "    <tr>\n",
       "      <th>4</th>\n",
       "      <td>1.0</td>\n",
       "      <td>/Hyderabad/India</td>\n",
       "      <td>AS</td>\n",
       "      <td>0.088889</td>\n",
       "      <td>17126</td>\n",
       "      <td>Specifier/ Influencer</td>\n",
       "      <td>Enterprise</td>\n",
       "      <td>NaN</td>\n",
       "      <td>NaN</td>\n",
       "      <td>NaN</td>\n",
       "      <td>...</td>\n",
       "      <td>partner</td>\n",
       "      <td>LGEIL</td>\n",
       "      <td>less than 3 months</td>\n",
       "      <td>0</td>\n",
       "      <td>0</td>\n",
       "      <td>0.003079</td>\n",
       "      <td>0.026846</td>\n",
       "      <td>corporate / office</td>\n",
       "      <td>4</td>\n",
       "      <td>True</td>\n",
       "    </tr>\n",
       "  </tbody>\n",
       "</table>\n",
       "<p>5 rows × 25 columns</p>\n",
       "</div>"
      ],
      "text/plain": [
       "   bant_submit          customer_country business_unit  com_reg_ver_win_rate  \\\n",
       "0          1.0  /Quezon City/Philippines            AS              0.066667   \n",
       "1          1.0        /PH-00/Philippines            AS              0.066667   \n",
       "2          1.0           /Kolkata /India            AS              0.088889   \n",
       "3          1.0        /Bhubaneswar/India            AS              0.088889   \n",
       "4          1.0          /Hyderabad/India            AS              0.088889   \n",
       "\n",
       "   customer_idx          customer_type  enterprise  historical_existing_cnt  \\\n",
       "0         32160           End-Customer  Enterprise                      NaN   \n",
       "1         23122           End-Customer  Enterprise                     12.0   \n",
       "2          1755           End-Customer  Enterprise                    144.0   \n",
       "3          4919           End-Customer  Enterprise                      NaN   \n",
       "4         17126  Specifier/ Influencer  Enterprise                      NaN   \n",
       "\n",
       "   id_strategic_ver  it_strategic_ver  ...  customer_position  \\\n",
       "0               NaN               NaN  ...        entry level   \n",
       "1               NaN               NaN  ...        ceo/founder   \n",
       "2               NaN               NaN  ...            partner   \n",
       "3               NaN               NaN  ...        ceo/founder   \n",
       "4               NaN               NaN  ...            partner   \n",
       "\n",
       "  response_corporate   expected_timeline ver_cus ver_pro ver_win_rate_x  \\\n",
       "0              LGEPH  less than 3 months       1       0       0.003079   \n",
       "1              LGEPH  less than 3 months       1       0       0.003079   \n",
       "2              LGEIL  less than 3 months       1       0       0.003079   \n",
       "3              LGEIL  less than 3 months       1       0       0.003079   \n",
       "4              LGEIL  less than 3 months       0       0       0.003079   \n",
       "\n",
       "  ver_win_ratio_per_bu       business_area  lead_owner  is_converted  \n",
       "0             0.026846  corporate / office           0          True  \n",
       "1             0.026846  corporate / office           1          True  \n",
       "2             0.026846  corporate / office           2          True  \n",
       "3             0.026846  corporate / office           3          True  \n",
       "4             0.026846  corporate / office           4          True  \n",
       "\n",
       "[5 rows x 25 columns]"
      ]
     },
     "execution_count": 6,
     "metadata": {},
     "output_type": "execute_result"
    }
   ],
   "source": [
    "\"\"\"\n",
    "df = df.drop(['bant_submit', 'com_reg_ver_win_rate', 'historical_existing_cnt', 'id_strategic_ver',\n",
    "                          'it_strategic_ver', 'ver_cus', 'ver_pro', 'ver_win_rate_x', 'ver_win_ratio_per_bu'], axis = 1)\n",
    "\"\"\"\n",
    "df.head()"
   ]
  },
  {
   "cell_type": "code",
   "execution_count": 7,
   "id": "4840a6c4",
   "metadata": {},
   "outputs": [
    {
     "name": "stdout",
     "output_type": "stream",
     "text": [
      "['/Quezon City/Philippines' '/PH-00/Philippines' '/Kolkata /India'\n",
      " '/Bhubaneswar/India' '/Hyderabad/India' '/Abuja/Nigeria'\n",
      " '/Jeddah, KSA/Saudi Arabia' '/Guwahati/India' '/Cebu city/Philippines'\n",
      " '/hauz khas,delhi/India']\n",
      "['/Itaú de Minas - Minas Gerais/Brazil' '/SP/ Jundiai/Brazil'\n",
      " '/Sergipe/Aracaju/Brazil' '/Estado de Mexico /Mexico'\n",
      " '/Baturaja/Indonesia' '/Sląskie/Poland' '/Bogotá DC /Colombia'\n",
      " '/Pisco/Peru' '/santa cruz bolivia/Peru' '/paris/France']\n"
     ]
    }
   ],
   "source": [
    "print(df['customer_country'].unique()[:10])\n",
    "print(df['customer_country'].unique()[-10:])"
   ]
  },
  {
   "cell_type": "markdown",
   "id": "a501a02c",
   "metadata": {},
   "source": [
    "# customer_country"
   ]
  },
  {
   "cell_type": "code",
   "execution_count": 8,
   "id": "aa562a40",
   "metadata": {},
   "outputs": [
    {
     "data": {
      "text/html": [
       "<div>\n",
       "<style scoped>\n",
       "    .dataframe tbody tr th:only-of-type {\n",
       "        vertical-align: middle;\n",
       "    }\n",
       "\n",
       "    .dataframe tbody tr th {\n",
       "        vertical-align: top;\n",
       "    }\n",
       "\n",
       "    .dataframe thead th {\n",
       "        text-align: right;\n",
       "    }\n",
       "</style>\n",
       "<table border=\"1\" class=\"dataframe\">\n",
       "  <thead>\n",
       "    <tr style=\"text-align: right;\">\n",
       "      <th></th>\n",
       "      <th>bant_submit</th>\n",
       "      <th>customer_country</th>\n",
       "      <th>business_unit</th>\n",
       "      <th>com_reg_ver_win_rate</th>\n",
       "      <th>customer_idx</th>\n",
       "      <th>customer_type</th>\n",
       "      <th>enterprise</th>\n",
       "      <th>historical_existing_cnt</th>\n",
       "      <th>id_strategic_ver</th>\n",
       "      <th>it_strategic_ver</th>\n",
       "      <th>...</th>\n",
       "      <th>customer_position</th>\n",
       "      <th>response_corporate</th>\n",
       "      <th>expected_timeline</th>\n",
       "      <th>ver_cus</th>\n",
       "      <th>ver_pro</th>\n",
       "      <th>ver_win_rate_x</th>\n",
       "      <th>ver_win_ratio_per_bu</th>\n",
       "      <th>business_area</th>\n",
       "      <th>lead_owner</th>\n",
       "      <th>is_converted</th>\n",
       "    </tr>\n",
       "  </thead>\n",
       "  <tbody>\n",
       "    <tr>\n",
       "      <th>0</th>\n",
       "      <td>1.0</td>\n",
       "      <td>Philippines</td>\n",
       "      <td>AS</td>\n",
       "      <td>0.066667</td>\n",
       "      <td>32160</td>\n",
       "      <td>End-Customer</td>\n",
       "      <td>Enterprise</td>\n",
       "      <td>NaN</td>\n",
       "      <td>NaN</td>\n",
       "      <td>NaN</td>\n",
       "      <td>...</td>\n",
       "      <td>entry level</td>\n",
       "      <td>LGEPH</td>\n",
       "      <td>less than 3 months</td>\n",
       "      <td>1</td>\n",
       "      <td>0</td>\n",
       "      <td>0.003079</td>\n",
       "      <td>0.026846</td>\n",
       "      <td>corporate / office</td>\n",
       "      <td>0</td>\n",
       "      <td>True</td>\n",
       "    </tr>\n",
       "    <tr>\n",
       "      <th>1</th>\n",
       "      <td>1.0</td>\n",
       "      <td>Philippines</td>\n",
       "      <td>AS</td>\n",
       "      <td>0.066667</td>\n",
       "      <td>23122</td>\n",
       "      <td>End-Customer</td>\n",
       "      <td>Enterprise</td>\n",
       "      <td>12.0</td>\n",
       "      <td>NaN</td>\n",
       "      <td>NaN</td>\n",
       "      <td>...</td>\n",
       "      <td>ceo/founder</td>\n",
       "      <td>LGEPH</td>\n",
       "      <td>less than 3 months</td>\n",
       "      <td>1</td>\n",
       "      <td>0</td>\n",
       "      <td>0.003079</td>\n",
       "      <td>0.026846</td>\n",
       "      <td>corporate / office</td>\n",
       "      <td>1</td>\n",
       "      <td>True</td>\n",
       "    </tr>\n",
       "    <tr>\n",
       "      <th>2</th>\n",
       "      <td>1.0</td>\n",
       "      <td>India</td>\n",
       "      <td>AS</td>\n",
       "      <td>0.088889</td>\n",
       "      <td>1755</td>\n",
       "      <td>End-Customer</td>\n",
       "      <td>Enterprise</td>\n",
       "      <td>144.0</td>\n",
       "      <td>NaN</td>\n",
       "      <td>NaN</td>\n",
       "      <td>...</td>\n",
       "      <td>partner</td>\n",
       "      <td>LGEIL</td>\n",
       "      <td>less than 3 months</td>\n",
       "      <td>1</td>\n",
       "      <td>0</td>\n",
       "      <td>0.003079</td>\n",
       "      <td>0.026846</td>\n",
       "      <td>corporate / office</td>\n",
       "      <td>2</td>\n",
       "      <td>True</td>\n",
       "    </tr>\n",
       "    <tr>\n",
       "      <th>3</th>\n",
       "      <td>1.0</td>\n",
       "      <td>India</td>\n",
       "      <td>AS</td>\n",
       "      <td>0.088889</td>\n",
       "      <td>4919</td>\n",
       "      <td>End-Customer</td>\n",
       "      <td>Enterprise</td>\n",
       "      <td>NaN</td>\n",
       "      <td>NaN</td>\n",
       "      <td>NaN</td>\n",
       "      <td>...</td>\n",
       "      <td>ceo/founder</td>\n",
       "      <td>LGEIL</td>\n",
       "      <td>less than 3 months</td>\n",
       "      <td>1</td>\n",
       "      <td>0</td>\n",
       "      <td>0.003079</td>\n",
       "      <td>0.026846</td>\n",
       "      <td>corporate / office</td>\n",
       "      <td>3</td>\n",
       "      <td>True</td>\n",
       "    </tr>\n",
       "    <tr>\n",
       "      <th>4</th>\n",
       "      <td>1.0</td>\n",
       "      <td>India</td>\n",
       "      <td>AS</td>\n",
       "      <td>0.088889</td>\n",
       "      <td>17126</td>\n",
       "      <td>Specifier/ Influencer</td>\n",
       "      <td>Enterprise</td>\n",
       "      <td>NaN</td>\n",
       "      <td>NaN</td>\n",
       "      <td>NaN</td>\n",
       "      <td>...</td>\n",
       "      <td>partner</td>\n",
       "      <td>LGEIL</td>\n",
       "      <td>less than 3 months</td>\n",
       "      <td>0</td>\n",
       "      <td>0</td>\n",
       "      <td>0.003079</td>\n",
       "      <td>0.026846</td>\n",
       "      <td>corporate / office</td>\n",
       "      <td>4</td>\n",
       "      <td>True</td>\n",
       "    </tr>\n",
       "  </tbody>\n",
       "</table>\n",
       "<p>5 rows × 25 columns</p>\n",
       "</div>"
      ],
      "text/plain": [
       "   bant_submit customer_country business_unit  com_reg_ver_win_rate  \\\n",
       "0          1.0      Philippines            AS              0.066667   \n",
       "1          1.0      Philippines            AS              0.066667   \n",
       "2          1.0            India            AS              0.088889   \n",
       "3          1.0            India            AS              0.088889   \n",
       "4          1.0            India            AS              0.088889   \n",
       "\n",
       "   customer_idx          customer_type  enterprise  historical_existing_cnt  \\\n",
       "0         32160           End-Customer  Enterprise                      NaN   \n",
       "1         23122           End-Customer  Enterprise                     12.0   \n",
       "2          1755           End-Customer  Enterprise                    144.0   \n",
       "3          4919           End-Customer  Enterprise                      NaN   \n",
       "4         17126  Specifier/ Influencer  Enterprise                      NaN   \n",
       "\n",
       "   id_strategic_ver  it_strategic_ver  ...  customer_position  \\\n",
       "0               NaN               NaN  ...        entry level   \n",
       "1               NaN               NaN  ...        ceo/founder   \n",
       "2               NaN               NaN  ...            partner   \n",
       "3               NaN               NaN  ...        ceo/founder   \n",
       "4               NaN               NaN  ...            partner   \n",
       "\n",
       "  response_corporate   expected_timeline ver_cus ver_pro ver_win_rate_x  \\\n",
       "0              LGEPH  less than 3 months       1       0       0.003079   \n",
       "1              LGEPH  less than 3 months       1       0       0.003079   \n",
       "2              LGEIL  less than 3 months       1       0       0.003079   \n",
       "3              LGEIL  less than 3 months       1       0       0.003079   \n",
       "4              LGEIL  less than 3 months       0       0       0.003079   \n",
       "\n",
       "  ver_win_ratio_per_bu       business_area  lead_owner  is_converted  \n",
       "0             0.026846  corporate / office           0          True  \n",
       "1             0.026846  corporate / office           1          True  \n",
       "2             0.026846  corporate / office           2          True  \n",
       "3             0.026846  corporate / office           3          True  \n",
       "4             0.026846  corporate / office           4          True  \n",
       "\n",
       "[5 rows x 25 columns]"
      ]
     },
     "execution_count": 8,
     "metadata": {},
     "output_type": "execute_result"
    }
   ],
   "source": [
    "df['customer_country'] = df['customer_country'].str.split('/').str[-1]\n",
    "\n",
    "import pycountry\n",
    "\n",
    "def validate_country(data):\n",
    "    try:\n",
    "        return pycountry.countries.lookup(data).name\n",
    "    except LookupError:\n",
    "        return pd.NA   # 국가이름 아닐시 nan으로 반환\n",
    "df['customer_country'] = df['customer_country'].apply(validate_country)\n",
    "df.head()"
   ]
  },
  {
   "cell_type": "code",
   "execution_count": 9,
   "id": "ca797020",
   "metadata": {
    "scrolled": true
   },
   "outputs": [
    {
     "name": "stdout",
     "output_type": "stream",
     "text": [
      "53282\n",
      "156\n",
      "['Philippines' 'India' 'Nigeria' 'Saudi Arabia' 'Singapore' 'Brazil' <NA>\n",
      " 'South Africa' 'United States' 'Colombia' 'Mexico' 'Ghana' 'Egypt'\n",
      " 'Ethiopia' 'Australia' 'Kenya' 'Indonesia' 'Oman' 'Pakistan'\n",
      " 'United Kingdom' 'Guatemala' 'Panama' 'Canada' 'Bangladesh'\n",
      " 'Papua New Guinea' 'Tanzania, United Republic of' 'Qatar' 'Afghanistan'\n",
      " 'Chile' 'Mozambique' 'Türkiye' 'El Salvador' 'Togo' 'Jordan' 'Iraq'\n",
      " 'Israel' 'Sri Lanka' 'Korea, Republic of' 'Portugal' 'Mauritania'\n",
      " 'Uruguay' 'Peru' 'Germany' 'Romania' 'Norway' 'Jamaica' 'Hungary'\n",
      " 'Poland' 'Spain' 'Argentina' 'Ecuador' 'Senegal' 'Hong Kong' 'Malaysia'\n",
      " 'Japan' 'Kuwait' 'Ireland' 'Albania' 'Greece' 'Algeria' 'Nicaragua'\n",
      " 'Slovenia' 'Italy' 'Netherlands' 'Dominican Republic' 'France' 'Uganda'\n",
      " 'Iran, Islamic Republic of' 'Paraguay' 'Bolivia, Plurinational State of'\n",
      " 'Namibia' 'Tunisia' 'Puerto Rico' 'Anguilla' 'Croatia' 'Fiji' 'Denmark'\n",
      " 'Sweden' 'Cyprus' 'Belgium' 'Venezuela, Bolivarian Republic of'\n",
      " 'Maldives' 'Morocco' 'Switzerland' 'Honduras' 'Austria' 'Bahamas'\n",
      " 'Burkina Faso' 'Thailand' 'Cambodia' 'Zimbabwe' 'Viet Nam' 'Barbados'\n",
      " 'Suriname' 'Costa Rica' 'Botswana' 'Curaçao' 'Guyana' 'Mali' 'China'\n",
      " 'Latvia' 'Libya' 'Central African Republic' 'Azerbaijan' 'Yemen'\n",
      " 'Antigua and Barbuda' 'Lebanon' 'Angola' 'Bulgaria' 'Armenia'\n",
      " 'Trinidad and Tobago' 'Nepal' 'Luxembourg' 'Somalia' 'Rwanda' 'Bahrain'\n",
      " 'Georgia' 'Mauritius' 'Turks and Caicos Islands' 'Malta'\n",
      " 'Taiwan, Province of China' 'Saint Kitts and Nevis' 'Myanmar'\n",
      " 'Sierra Leone' 'Sudan' 'Cameroon' 'Syrian Arab Republic' 'Gambia' 'Gabon'\n",
      " 'Montenegro' \"Lao People's Democratic Republic\" 'Lithuania' 'Zambia'\n",
      " 'Estonia' 'Virgin Islands, British' 'Serbia' 'Benin'\n",
      " 'Bosnia and Herzegovina' 'Bermuda' 'New Zealand' 'Ukraine' 'Congo'\n",
      " 'Kazakhstan' 'Belarus' 'Cayman Islands' 'Finland' 'Iceland' 'Saint Lucia'\n",
      " 'Djibouti' 'Belize' 'Guinea' 'Cuba' 'Aruba' 'Haiti' 'Mongolia'\n",
      " 'Isle of Man' 'Slovakia']\n"
     ]
    }
   ],
   "source": [
    "print(df['customer_country'].count())\n",
    "print(df['customer_country'].nunique())\n",
    "print(df['customer_country'].unique())"
   ]
  },
  {
   "cell_type": "code",
   "execution_count": 10,
   "id": "988813d8",
   "metadata": {},
   "outputs": [
    {
     "name": "stdout",
     "output_type": "stream",
     "text": [
      "customer_country    Costa RicaDominican RepublicIsraelOmanPakistan...\n",
      "is_converted                                                     2500\n",
      "dtype: object\n"
     ]
    },
    {
     "data": {
      "text/html": [
       "<div>\n",
       "<style scoped>\n",
       "    .dataframe tbody tr th:only-of-type {\n",
       "        vertical-align: middle;\n",
       "    }\n",
       "\n",
       "    .dataframe tbody tr th {\n",
       "        vertical-align: top;\n",
       "    }\n",
       "\n",
       "    .dataframe thead th {\n",
       "        text-align: right;\n",
       "    }\n",
       "</style>\n",
       "<table border=\"1\" class=\"dataframe\">\n",
       "  <thead>\n",
       "    <tr style=\"text-align: right;\">\n",
       "      <th></th>\n",
       "      <th>customer_country</th>\n",
       "      <th>is_converted</th>\n",
       "    </tr>\n",
       "  </thead>\n",
       "  <tbody>\n",
       "    <tr>\n",
       "      <th>36</th>\n",
       "      <td>Costa Rica</td>\n",
       "      <td>99</td>\n",
       "    </tr>\n",
       "    <tr>\n",
       "      <th>43</th>\n",
       "      <td>Dominican Republic</td>\n",
       "      <td>92</td>\n",
       "    </tr>\n",
       "    <tr>\n",
       "      <th>72</th>\n",
       "      <td>Israel</td>\n",
       "      <td>91</td>\n",
       "    </tr>\n",
       "    <tr>\n",
       "      <th>106</th>\n",
       "      <td>Oman</td>\n",
       "      <td>91</td>\n",
       "    </tr>\n",
       "    <tr>\n",
       "      <th>107</th>\n",
       "      <td>Pakistan</td>\n",
       "      <td>87</td>\n",
       "    </tr>\n",
       "    <tr>\n",
       "      <th>...</th>\n",
       "      <td>...</td>\n",
       "      <td>...</td>\n",
       "    </tr>\n",
       "    <tr>\n",
       "      <th>16</th>\n",
       "      <td>Belarus</td>\n",
       "      <td>1</td>\n",
       "    </tr>\n",
       "    <tr>\n",
       "      <th>91</th>\n",
       "      <td>Mauritania</td>\n",
       "      <td>1</td>\n",
       "    </tr>\n",
       "    <tr>\n",
       "      <th>65</th>\n",
       "      <td>Iceland</td>\n",
       "      <td>1</td>\n",
       "    </tr>\n",
       "    <tr>\n",
       "      <th>61</th>\n",
       "      <td>Haiti</td>\n",
       "      <td>1</td>\n",
       "    </tr>\n",
       "    <tr>\n",
       "      <th>95</th>\n",
       "      <td>Montenegro</td>\n",
       "      <td>1</td>\n",
       "    </tr>\n",
       "  </tbody>\n",
       "</table>\n",
       "<p>121 rows × 2 columns</p>\n",
       "</div>"
      ],
      "text/plain": [
       "       customer_country  is_converted\n",
       "36           Costa Rica            99\n",
       "43   Dominican Republic            92\n",
       "72               Israel            91\n",
       "106                Oman            91\n",
       "107            Pakistan            87\n",
       "..                  ...           ...\n",
       "16              Belarus             1\n",
       "91           Mauritania             1\n",
       "65              Iceland             1\n",
       "61                Haiti             1\n",
       "95           Montenegro             1\n",
       "\n",
       "[121 rows x 2 columns]"
      ]
     },
     "execution_count": 10,
     "metadata": {},
     "output_type": "execute_result"
    }
   ],
   "source": [
    "grouped_df = df.groupby('customer_country')['is_converted'].count().reset_index()\n",
    "grouped_df = grouped_df.sort_values(by='is_converted', ascending=False)\n",
    "# 수가 적은 나라 수 데이터 합 578개 (약 1.1%)\n",
    "print(grouped_df[grouped_df['is_converted'] <= 100].sum())\n",
    "grouped_df[grouped_df['is_converted'] <= 100]"
   ]
  },
  {
   "cell_type": "code",
   "execution_count": 11,
   "id": "3a121c45",
   "metadata": {},
   "outputs": [
    {
     "name": "stdout",
     "output_type": "stream",
     "text": [
      "0\n",
      "6017\n",
      "59299\n",
      "36\n",
      "['Philippines' 'India' 'Nigeria' 'Saudi Arabia' 'Singapore' 'Brazil'\n",
      " 'none' 'South Africa' 'United States' 'Colombia' 'Mexico' 'Egypt'\n",
      " 'Australia' 'Kenya' 'Indonesia' 'United Kingdom' 'Panama' 'Canada'\n",
      " 'Chile' 'Türkiye' 'Iraq' 'Portugal' 'Peru' 'Germany' 'Hungary' 'Poland'\n",
      " 'Spain' 'Argentina' 'Ecuador' 'Hong Kong' 'Malaysia' 'Italy' 'France'\n",
      " 'Thailand' 'Viet Nam' 'Bulgaria']\n"
     ]
    }
   ],
   "source": [
    "# null값 n으로 치환. null값 6017개\n",
    "print(df[df['customer_country'] =='none']['customer_country'].count())\n",
    "df.loc[df['customer_country'].isnull() == True, 'customer_country'] = 'none'\n",
    "print(df[df['customer_country'] =='none']['customer_country'].count())\n",
    "\n",
    "# 데이터가 100개 이하인 나라 카테고리\n",
    "low_num_country = grouped_df[grouped_df['is_converted'] <= 100]['customer_country']\n",
    "\n",
    "# low_num_에 있는 단어를 'none'으로 치환하는 함수\n",
    "def replace_words_with_n(text, word_list):\n",
    "    if text in word_list.values:\n",
    "        return 'none'\n",
    "    else:\n",
    "        return text\n",
    "\n",
    "# 데이터프레임의 'customer_country' 열에 함수를 적용하여 치환\n",
    "df['customer_country'] = df['customer_country'].apply(lambda x: replace_words_with_n(x, low_num_country))\n",
    "\n",
    "print(df['customer_country'].count())\n",
    "print(df['customer_country'].nunique())\n",
    "print(df['customer_country'].unique())"
   ]
  },
  {
   "cell_type": "code",
   "execution_count": 12,
   "id": "e575512a-c2f6-43e8-bf8a-32d1f9200a2a",
   "metadata": {},
   "outputs": [],
   "source": [
    "############## cusomer_country 전처리_test_ver #############\n",
    "\n",
    "df_test['customer_country'] = df_test['customer_country'].str.split('/').str[-1]\n",
    "df_test['customer_country'] = df_test['customer_country'].apply(validate_country)\n",
    "\n",
    "grouped_df_test = df_test.groupby('customer_country')['is_converted'].count().reset_index()\n",
    "grouped_df_test = grouped_df_test.sort_values(by='is_converted', ascending=False)\n",
    "df_test.loc[df_test['customer_country'].isnull() == True, 'customer_country'] = 'none'\n",
    "low_num_country_test = grouped_df_test[grouped_df_test['is_converted'] <= 20]['customer_country']\n",
    "df_test['customer_country'] = df_test['customer_country'].apply(lambda x: replace_words_with_n(x, low_num_country_test))\n"
   ]
  },
  {
   "cell_type": "markdown",
   "id": "ca935987",
   "metadata": {},
   "source": [
    "# business unit"
   ]
  },
  {
   "cell_type": "code",
   "execution_count": 13,
   "id": "650e80ff",
   "metadata": {},
   "outputs": [
    {
     "name": "stdout",
     "output_type": "stream",
     "text": [
      "5\n",
      "['AS' 'ID' 'IT' 'Solution' 'CM']\n"
     ]
    }
   ],
   "source": [
    "print(df['business_unit'].nunique())\n",
    "print(df['business_unit'].unique())"
   ]
  },
  {
   "cell_type": "markdown",
   "id": "6546b8b6",
   "metadata": {},
   "source": [
    "# customer_type"
   ]
  },
  {
   "cell_type": "code",
   "execution_count": 14,
   "id": "8446ac05",
   "metadata": {},
   "outputs": [
    {
     "name": "stdout",
     "output_type": "stream",
     "text": [
      "28\n",
      "['end-customer' 'specifier/ influencer' 'service partner'\n",
      " 'channel partner' nan 'corporate' 'specifier / influencer'\n",
      " 'solution eco-partner' 'distributor' 'other' 'system integrator'\n",
      " 'consultant' 'installer' 'homeowner' 'technician' 'installer/contractor'\n",
      " 'engineer' 'manager / director' 'developer' 'architect/consultant'\n",
      " 'hvac engineer' 'reseller' 'software/solution provider'\n",
      " 'software / solution provider' 'dealer/distributor' 'technical assistant'\n",
      " 'interior designer' 'home owner' 'administrator']\n"
     ]
    }
   ],
   "source": [
    "# 소문자 치환\n",
    "df['customer_type'] = df['customer_type'].str.lower()\n",
    "# other, others, etc를 other로 통합\n",
    "df.loc[df['customer_type'].str.contains('other') == True,'customer_type'] = 'other'\n",
    "df.loc[df['customer_type'].str.contains('etc') == True,'customer_type'] = 'other'\n",
    "# end-customer, end-usr, end customer, commercial end-user을 end-customer로 치환\n",
    "df.loc[df['customer_type'].str.contains('end') == True,'customer_type'] = 'end-customer'\n",
    "print(df['customer_type'].nunique())\n",
    "print(df['customer_type'].unique())"
   ]
  },
  {
   "cell_type": "code",
   "execution_count": 15,
   "id": "fbfe294a-0fb9-4e15-8935-f4a3b346afc1",
   "metadata": {},
   "outputs": [],
   "source": [
    "############## cusomer_type 전처리_test_ver #############\n",
    "\n",
    "df_test['customer_type'] = df_test['customer_type'].str.lower()\n",
    "df_test.loc[df_test['customer_type'].str.contains('other') == True,'customer_type'] = 'other'\n",
    "df_test.loc[df_test['customer_type'].str.contains('etc') == True,'customer_type'] = 'other'\n",
    "df_test.loc[df_test['customer_type'].str.contains('end') == True,'customer_type'] = 'end-customer'\n"
   ]
  },
  {
   "cell_type": "markdown",
   "id": "1abcd4f1",
   "metadata": {},
   "source": [
    "# product_category"
   ]
  },
  {
   "cell_type": "code",
   "execution_count": 16,
   "id": "d5c4bad0",
   "metadata": {
    "scrolled": true
   },
   "outputs": [
    {
     "name": "stdout",
     "output_type": "stream",
     "text": [
      "39925\n",
      "357\n",
      "                                      product_category  is_converted\n",
      "187                                    one quick works             1\n",
      "182                                      not specified             1\n",
      "181                           multi-split,single-split             1\n",
      "172                              monitorindustrial_rmk             1\n",
      "133                      monior/monitor tv,audio/video             1\n",
      "134                          monior/monitor tv,chiller             1\n",
      "136            monior/monitor tv,projector,audio/video             1\n",
      "137                     monior/monitor tv,refrigerator             1\n",
      "138         monior/monitor tv,refrigerator,audio/video             1\n",
      "139  monior/monitor tv,system ac,tv,pc,refrigerator...             1\n",
      "140  monior/monitor tv,system ac,tv,refrigerator,wa...             1\n",
      "142  monior/monitor tv,tv,commercial tv,pc,refriger...             1\n",
      "147          monitor signage,commercial tv,audio/video             1\n",
      "149  monitor signage,commercial tv,monior/monitor t...             1\n",
      "150  monitor signage,commercial tv,monior/monitor t...             1\n",
      "151  monitor signage,commercial tv,monior/monitor t...             1\n",
      "153  monitor signage,commercial tv,monior/monitor t...             1\n",
      "154            monitor signage,commercial tv,solar,ess             1\n",
      "157  monitor signage,commercial tv,solar,pc,project...             1\n",
      "158  monitor signage,commercial tv,solar,projector,...             1\n",
      "159                             monitor signage,mobile             1\n",
      "161    monitor signage,monior/monitor tv,commercial tv             1\n",
      "162            monitor signage,monior/monitor tv,pc,tv             1\n",
      "163  monitor signage,monior/monitor tv,system ac,va...             1\n",
      "164   monitor signage,monior/monitor tv,tv,audio/video             1\n",
      "165  monitor signage,monior/monitor tv,vacuum clean...             1\n",
      "167                              monitor signage,solar             1\n",
      "168  monitor signage,solar,monior/monitor tv,pc,pro...             1\n",
      "169             monitor signage,solar,robot,water care             1\n",
      "356                                             高亮度顯示屏             1\n"
     ]
    }
   ],
   "source": [
    "print(df['product_category'].count())\n",
    "print(df['product_category'].nunique())\n",
    "grouped_df = df.groupby('product_category')['is_converted'].count().reset_index()\n",
    "grouped_df = grouped_df.sort_values(by='is_converted', ascending=False)\n",
    "print(grouped_df[-30:])"
   ]
  },
  {
   "cell_type": "code",
   "execution_count": 17,
   "id": "300cc840",
   "metadata": {
    "scrolled": true
   },
   "outputs": [
    {
     "name": "stdout",
     "output_type": "stream",
     "text": [
      "59299\n",
      "356\n",
      "['multi split' 'single split' 'vrf' 'chiller' 'etc.' 'rac'\n",
      " 'teto ou cassete inverter' 'none' 'software solution'\n",
      " 'all lg vrf systems' 'ventilation' 'a thermodynamic water heater'\n",
      " 'residential air conditioner' 'outros' 'heating' 'multi v5 vrf'\n",
      " 'split tunggal' 'multi inverter' 'חימום' 'standard signage'\n",
      " 'high brightness signage' 'interactive signage' 'video wall signage'\n",
      " 'led signage' 'hotel tv' 'signage care solution' 'oled signage' 'idb'\n",
      " 'video wall' 'one:quick series' 'commercial tv' 'lg one:quick'\n",
      " 'special signage' 'other' 'accessories' 'commercial display'\n",
      " 'interactive digital board' 'standard' 'uhd signage' 'smart tv signage'\n",
      " 'lg one:quick series' 'pro:centric' 'ur640' 'ur640s' 'webos'\n",
      " 'signage care solutions' 'aio | one quick' 'high brightness'\n",
      " 'hospital tv' 'digital signage' 'monitor' 'pc' 'laptop' 'projector'\n",
      " 'cloud device' 'medical display' 'washing machine dryer' 'solar chiller'\n",
      " 'system ac rac' 'monitor signage commercial tv monior monitor tv'\n",
      " 'monitor signage monior monitor tv' 'aircare built in cooking'\n",
      " 'monitor signage commercial tv monior monitor tv projector tv'\n",
      " 'monitor signage commercial tv monior monitor tv tv' 'commercial tv tv'\n",
      " 'monitor signage commercial tv solar ess monior monitor tv pc projector robot system ac ems rac chill'\n",
      " 'monior monitor tv tv' 'chiller aircare' 'solar aircare'\n",
      " 'commercial tv audio video' 'solar ess' 'solar system ac'\n",
      " 'ultra stretch series' '互動式顯示屏' 'led 顯示屏' 'one quick works' 'fhd series'\n",
      " 'onequick series' '標準顯示屏' '43us660h0sd.awz' '50uq801c0sb.bwz'\n",
      " 'one quick:flex' 'led aio 136' '110 + video wall' 'aio' 'tv'\n",
      " 'videowall signage' '酒店電視' 'robots' 'one:quick flex' 'tv signage'\n",
      " 'collaboration displays' 'oled 顯示屏' 'id'\n",
      " 'meeting & screen sharedirect view leddirect view led'\n",
      " 'window facing display' 'lg customer care program' 'led' 'lainnya'\n",
      " 'multi v' 'control' 'מזגנים למקום מגורים' 'pendingin' 'multi v 5 air'\n",
      " 'ar condicionado residencial' 'مبرد (تشيلر)' 'multi v water 5' 'ahu'\n",
      " 'lg home bliss air solution' 'lg paradise air solution' 'isıtma'\n",
      " 'technical support' 'تكييفات' 'sales inquiry' 'פיצול מרובה'\n",
      " 'تكييف وتبريد' 'אחר' 'vrf multi split' 'vrf multi split chiller'\n",
      " 'vrf multi split single split chiller heating' 'error' 'medical displays'\n",
      " 'others' '28mq780' 'computer monitors' 'monitor & pc' 'medical monitors'\n",
      " 'system air conditioner' 'system ac solar washing machine'\n",
      " 'solar ess ems' 'tv mobile' 'commercial tv projector'\n",
      " 'aircare water care' 'monior monitor tv chiller' 'system ac chiller'\n",
      " 'system ac aircare' 'monitor signage commercial tv' 'system ac tv'\n",
      " 'monitor signage audio video'\n",
      " 'monitor signage commercial tv solar ess monior monitor tv pc'\n",
      " 'monitor signage pc' 'monitor signage commercial tv solar ess' 'solar'\n",
      " 'energy storage system'\n",
      " 'monior monitor tv system ac tv refrigerator washing machine dryer built in cooking'\n",
      " 'commercial tv robot' 'monitor signage solar' 'solar projector'\n",
      " 'tv audio video' 'refrigerator' 'solar dryer' 'solar monior monitor tv'\n",
      " 'chiller dryer' 'monior monitor tv pc' 'solar refrigerator'\n",
      " 'monitor signage system ac' 'system air conditioner solar' 'solar tv'\n",
      " 'monitor signage tv' 'dryer chiller'\n",
      " 'monitor signage monior monitor tv system ac vacuum cleaner tv home beauty commercial tv mobile audio'\n",
      " 'videwall' 'ultra stretch signage' 'solar vacuum cleaner'\n",
      " 'solar monior monitor tv pc tv refrigerator washing machine dryer home beauty'\n",
      " 'monitor signage solar robot water care' 'mobile audio video'\n",
      " 'system ac refrigerator washing machine dryer' 'solar system ac aircare'\n",
      " 'projector system ac water care' 'chiller water care'\n",
      " 'monior monitor tv tv commercial tv pc refrigerator solar rac washing machine mobile ess audio video'\n",
      " 'ess chiller' 'monitor signage monior monitor tv pc tv'\n",
      " 'solar water care' 'digital signage or commercial tvs'\n",
      " 'education createboard' 'virtual production' 'laec015'\n",
      " 'monitor signage commercial tv audio video' 'solar built in cooking'\n",
      " 'monitor signage monior monitor tv commercial tv'\n",
      " 'commercial tv monior monitor tv' 'robot system ac' '55us660h0sd.bwz'\n",
      " 'transparent oled' 'medical  surgical' 'radiology displays'\n",
      " 'high inch 86   98 or 110' 'leadallin' 'ฯลฯ' 'commercial tv water care'\n",
      " 'pc washing machine'\n",
      " 'monitor signage solar monior monitor tv pc projector robot system ac tv refrigerator washing machine'\n",
      " 'system ac tv refrigerator washing machine built in cooking audio video'\n",
      " 'system air conditioner energy storage system' 'tv commercial tv'\n",
      " 'system ac home beauty' 'information display monitor'\n",
      " 'taa lcd lfd displays' 'rac cac' 'حلول التدفئة'\n",
      " 'system ac chiller aircare' 'otros' 'tv refrigerator washing machine'\n",
      " 'monior monitor tv refrigerator'\n",
      " 'monior monitor tv system ac tv pc refrigerator water care solar washing machine mobile chiller built'\n",
      " 'projector audio video' 'monior monitor tv audio video'\n",
      " 'monitor signage commercial tv monior monitor tv pc tv home beauty audio video'\n",
      " 'pc robot system ac chiller tv refrigerator washing machine vacuum cleaner styler dryer mobile audio '\n",
      " 'refrigerator washing machine built in cooking'\n",
      " 'monitor signage monior monitor tv tv audio video'\n",
      " 'tv refrigerator washing machine vacuum cleaner audio video' 'pc tv'\n",
      " 'system ac' 'sac' 'laec015 gn.awz' 'gscd046' '32lq621cbsb.awz'\n",
      " '43uh5f h.awzm' '49vl5g m.awzm' '55uq801c0sb.bwz' '43uq751c0sf.bwz'\n",
      " '32   43 pol' 'htv' '43uq751c0sb.bwz' '49uh   49xf' '50us660h0sd.bwz'\n",
      " 'tv 60\"' 'medical monitor' 'aircare mobile' 'solar ess system ac'\n",
      " 'system ac refrigerator' 'tv pc'\n",
      " 'monitor signage commercial tv solar pc projector system ac ems rac chiller refrigerator washing mach'\n",
      " 'chiller refrigerator'\n",
      " 'monitor signage commercial tv solar projector robot chiller refrigerator built in cooking water care'\n",
      " 'commercial tv solar' 'monior monitor tv projector audio video'\n",
      " 'unitario' 'refrigerator chiller' 'chiller tv' 'projector ems' 'cac'\n",
      " 'vrf chiller' 'single package' 'monitor signage mobile'\n",
      " 'robot vacuum cleaner'\n",
      " 'monitor signage commercial tv monior monitor tv audio video'\n",
      " 'điều hòa trung tâm multi' 'ogrzewanie (pompy ciepła)' 'soğutucu'\n",
      " 'điều hòa gia dụng' 'نظام التدفق المتغيرvrf' 'chiller enfriadoras'\n",
      " '49vl5g m' 'lg led bloc' 'uh' '55vm5e a' 'laec15' '55vm5j h' '49vl5f'\n",
      " 'standalone' 'corpouh5f' 'ledallinone' 'monitorindustrial_rmk'\n",
      " 'lg magnit' '特別顯示屏' 'signage' 'videowall_rmk' 'bu50nst' 'led 70m2'\n",
      " 'led cinema' '86uh5f' '55tc3d' '43us660h (na)' 'pro centric hotel'\n",
      " 'video wall + aio' 'hospitality' 'one:quick' '高亮度顯示屏' 'comercial tv'\n",
      " 'corpuh5f ' 'allinone_rmk' 'hoteleria_us670h' 'retaildigital' '軟體' '醫院電視'\n",
      " 'ctv' 'calefacción' 'autre' 'vb.' 'ac rumah'\n",
      " 'เครื่องปรับอากาศเผื่อที่อยู่อาศัย' 'aire acondicionado residencial'\n",
      " 'vrf   multi v s' 'systèmes de débit à réfrigérant variable (drv)'\n",
      " 'climatiseur résidentiel' 'multi split (plusieurs pièces)' 'aquecimento'\n",
      " 'khác' 'lg salang air solution for dream homes' 'rac single cac'\n",
      " 'services' 'آخر' 'vrf single split'\n",
      " 'vrf multi split single split chiller etc.' 'multi split single split'\n",
      " 'vrf multi split single split' 'vrf multi split etc.'\n",
      " 'vrf multi split heating' 'on or several reversible ac'\n",
      " 'vrf multi split single split chiller'\n",
      " 'vrf multi split single split heating' 'vrf single split chiller'\n",
      " 'commercial tv solar ess projector system ac tv washing machine home beauty audio video'\n",
      " 'solar robot' 'scroll compressor' 'pantalla led outdoor'\n",
      " 'klimatyzacja multi split'\n",
      " 'monitor signage commercial tv monior monitor tv pc projector tv audio video'\n",
      " 'not specified' 'single cac' 'kimatyzacja vrf'\n",
      " 'solar energy storage system' 'system ac solar'\n",
      " 'solar system ac water care' '55svh7f a' 'tr3' '98uh5e' 'inne'\n",
      " 'điều hòa trung tâm vrf' 'vrf heating'\n",
      " 'monitor signage monior monitor tv vacuum cleaner tv home beauty commercial tv pc refrigerator styler'\n",
      " 'refrigerator built in cooking' 'ems audio video'\n",
      " 'projector ems mobile audio video' 'smart tv' 'tv 55\"' 'surgical monitor'\n",
      " 'gsca046' 'gscd100' 'procentric' '32 pol' 'tv 43 pol' '43 pol'\n",
      " 'commercial tv solar ess monior monitor tv pc projector robot system ac ems rac chiller refrigerator '\n",
      " 'tv refrigerator' 'a definir' 'điều hòa trung tâm chiller'\n",
      " 'điều hòa cục bộ' 'lsca039' 'essential series' 'parts'\n",
      " 'monior monitor tv refrigerator audio video']\n"
     ]
    }
   ],
   "source": [
    "# 소문자로 치환\n",
    "df['product_category'] = df['product_category'].str.lower()\n",
    "\n",
    "# null값 n으로 치환\n",
    "df.loc[df['product_category'].isnull() == True, 'product_category'] = 'none'\n",
    "\n",
    "# 기호들을 공백으로 치환\n",
    "def replace_symbols(text):\n",
    "    # 만약 문자열이 아니면 그대로 반환\n",
    "    if not isinstance(text, str):\n",
    "        return text\n",
    "    return text.replace(',', ' ').replace('-', ' ').replace('/', ' ')\n",
    "\n",
    "replaced_df = df['product_category'].apply(replace_symbols)\n",
    "df['product_category'] = replaced_df\n",
    "print(df['product_category'].count())\n",
    "print(df['product_category'].nunique())\n",
    "print(df['product_category'].unique())"
   ]
  },
  {
   "cell_type": "code",
   "execution_count": 18,
   "id": "0052036c",
   "metadata": {
    "scrolled": true
   },
   "outputs": [],
   "source": [
    "# import re\n",
    "\n",
    "# # 알파벳을 포함하고, 한글, 중국어 등의 다른 문자를 포함하지 않은 데이터만 남기기\n",
    "# # False가 반환되는 값은 'etc'로 치환\n",
    "# def contains_valid_chars(text):\n",
    "#     if bool(re.match(r'^[a-zA-Z\\s]+$', str(text))):\n",
    "#         return text\n",
    "#     else:\n",
    "#         return 'etc'\n",
    "\n",
    "# # product_category 열에 함수 적용\n",
    "# df['product_category'] = df['product_category'].apply(contains_valid_chars)\n",
    "\n",
    "# # 출력\n",
    "# # etc에 포함되는 데이터 4079개 (전체 데이터의 11%)\n",
    "# print(df[df['product_category'] == 'etc']['product_category'].count())\n",
    "# print(df['product_category'].count())\n",
    "# print(df['product_category'])"
   ]
  },
  {
   "cell_type": "code",
   "execution_count": 19,
   "id": "d95d6cb4",
   "metadata": {},
   "outputs": [
    {
     "name": "stdout",
     "output_type": "stream",
     "text": [
      "59299\n",
      "356\n",
      "['multi split' 'single split' 'vrf' 'chiller' 'etc.' 'rac'\n",
      " 'teto ou cassete inverter' 'none' 'software solution'\n",
      " 'all lg vrf systems' 'ventilation' 'a thermodynamic water heater'\n",
      " 'residential air conditioner' 'outros' 'heating' 'multi v5 vrf'\n",
      " 'split tunggal' 'multi inverter' 'חימום' 'standard signage'\n",
      " 'high brightness signage' 'interactive signage' 'video wall signage'\n",
      " 'led signage' 'hotel tv' 'signage care solution' 'oled signage' 'idb'\n",
      " 'video wall' 'one:quick series' 'commercial tv' 'lg one:quick'\n",
      " 'special signage' 'other' 'accessories' 'commercial display'\n",
      " 'interactive digital board' 'standard' 'uhd signage' 'smart tv signage'\n",
      " 'lg one:quick series' 'pro:centric' 'ur640' 'ur640s' 'webos'\n",
      " 'signage care solutions' 'aio | one quick' 'high brightness'\n",
      " 'hospital tv' 'digital signage' 'monitor' 'pc' 'laptop' 'projector'\n",
      " 'cloud device' 'medical display' 'washing machine dryer' 'solar chiller'\n",
      " 'system ac rac' 'monitor signage commercial tv monior monitor tv'\n",
      " 'monitor signage monior monitor tv' 'aircare built in cooking'\n",
      " 'monitor signage commercial tv monior monitor tv projector tv'\n",
      " 'monitor signage commercial tv monior monitor tv tv' 'commercial tv tv'\n",
      " 'monitor signage commercial tv solar ess monior monitor tv pc projector robot system ac ems rac chill'\n",
      " 'monior monitor tv tv' 'chiller aircare' 'solar aircare'\n",
      " 'commercial tv audio video' 'solar ess' 'solar system ac'\n",
      " 'ultra stretch series' '互動式顯示屏' 'led 顯示屏' 'one quick works' 'fhd series'\n",
      " 'onequick series' '標準顯示屏' '43us660h0sd.awz' '50uq801c0sb.bwz'\n",
      " 'one quick:flex' 'led aio 136' '110 + video wall' 'aio' 'tv'\n",
      " 'videowall signage' '酒店電視' 'robots' 'one:quick flex' 'tv signage'\n",
      " 'collaboration displays' 'oled 顯示屏' 'id'\n",
      " 'meeting & screen sharedirect view leddirect view led'\n",
      " 'window facing display' 'lg customer care program' 'led' 'lainnya'\n",
      " 'multi v' 'control' 'מזגנים למקום מגורים' 'pendingin' 'multi v 5 air'\n",
      " 'ar condicionado residencial' 'مبرد (تشيلر)' 'multi v water 5' 'ahu'\n",
      " 'lg home bliss air solution' 'lg paradise air solution' 'isıtma'\n",
      " 'technical support' 'تكييفات' 'sales inquiry' 'פיצול מרובה'\n",
      " 'تكييف وتبريد' 'אחר' 'vrf multi split' 'vrf multi split chiller'\n",
      " 'vrf multi split single split chiller heating' 'error' 'medical displays'\n",
      " 'others' '28mq780' 'computer monitors' 'monitor & pc' 'medical monitors'\n",
      " 'system air conditioner' 'system ac solar washing machine'\n",
      " 'solar ess ems' 'tv mobile' 'commercial tv projector'\n",
      " 'aircare water care' 'monior monitor tv chiller' 'system ac chiller'\n",
      " 'system ac aircare' 'monitor signage commercial tv' 'system ac tv'\n",
      " 'monitor signage audio video'\n",
      " 'monitor signage commercial tv solar ess monior monitor tv pc'\n",
      " 'monitor signage pc' 'monitor signage commercial tv solar ess' 'solar'\n",
      " 'energy storage system'\n",
      " 'monior monitor tv system ac tv refrigerator washing machine dryer built in cooking'\n",
      " 'commercial tv robot' 'monitor signage solar' 'solar projector'\n",
      " 'tv audio video' 'refrigerator' 'solar dryer' 'solar monior monitor tv'\n",
      " 'chiller dryer' 'monior monitor tv pc' 'solar refrigerator'\n",
      " 'monitor signage system ac' 'system air conditioner solar' 'solar tv'\n",
      " 'monitor signage tv' 'dryer chiller'\n",
      " 'monitor signage monior monitor tv system ac vacuum cleaner tv home beauty commercial tv mobile audio'\n",
      " 'videwall' 'ultra stretch signage' 'solar vacuum cleaner'\n",
      " 'solar monior monitor tv pc tv refrigerator washing machine dryer home beauty'\n",
      " 'monitor signage solar robot water care' 'mobile audio video'\n",
      " 'system ac refrigerator washing machine dryer' 'solar system ac aircare'\n",
      " 'projector system ac water care' 'chiller water care'\n",
      " 'monior monitor tv tv commercial tv pc refrigerator solar rac washing machine mobile ess audio video'\n",
      " 'ess chiller' 'monitor signage monior monitor tv pc tv'\n",
      " 'solar water care' 'digital signage or commercial tvs'\n",
      " 'education createboard' 'virtual production' 'laec015'\n",
      " 'monitor signage commercial tv audio video' 'solar built in cooking'\n",
      " 'monitor signage monior monitor tv commercial tv'\n",
      " 'commercial tv monior monitor tv' 'robot system ac' '55us660h0sd.bwz'\n",
      " 'transparent oled' 'medical  surgical' 'radiology displays'\n",
      " 'high inch 86   98 or 110' 'leadallin' 'ฯลฯ' 'commercial tv water care'\n",
      " 'pc washing machine'\n",
      " 'monitor signage solar monior monitor tv pc projector robot system ac tv refrigerator washing machine'\n",
      " 'system ac tv refrigerator washing machine built in cooking audio video'\n",
      " 'system air conditioner energy storage system' 'tv commercial tv'\n",
      " 'system ac home beauty' 'information display monitor'\n",
      " 'taa lcd lfd displays' 'rac cac' 'حلول التدفئة'\n",
      " 'system ac chiller aircare' 'otros' 'tv refrigerator washing machine'\n",
      " 'monior monitor tv refrigerator'\n",
      " 'monior monitor tv system ac tv pc refrigerator water care solar washing machine mobile chiller built'\n",
      " 'projector audio video' 'monior monitor tv audio video'\n",
      " 'monitor signage commercial tv monior monitor tv pc tv home beauty audio video'\n",
      " 'pc robot system ac chiller tv refrigerator washing machine vacuum cleaner styler dryer mobile audio '\n",
      " 'refrigerator washing machine built in cooking'\n",
      " 'monitor signage monior monitor tv tv audio video'\n",
      " 'tv refrigerator washing machine vacuum cleaner audio video' 'pc tv'\n",
      " 'system ac' 'sac' 'laec015 gn.awz' 'gscd046' '32lq621cbsb.awz'\n",
      " '43uh5f h.awzm' '49vl5g m.awzm' '55uq801c0sb.bwz' '43uq751c0sf.bwz'\n",
      " '32   43 pol' 'htv' '43uq751c0sb.bwz' '49uh   49xf' '50us660h0sd.bwz'\n",
      " 'tv 60\"' 'medical monitor' 'aircare mobile' 'solar ess system ac'\n",
      " 'system ac refrigerator' 'tv pc'\n",
      " 'monitor signage commercial tv solar pc projector system ac ems rac chiller refrigerator washing mach'\n",
      " 'chiller refrigerator'\n",
      " 'monitor signage commercial tv solar projector robot chiller refrigerator built in cooking water care'\n",
      " 'commercial tv solar' 'monior monitor tv projector audio video'\n",
      " 'unitario' 'refrigerator chiller' 'chiller tv' 'projector ems' 'cac'\n",
      " 'vrf chiller' 'single package' 'monitor signage mobile'\n",
      " 'robot vacuum cleaner'\n",
      " 'monitor signage commercial tv monior monitor tv audio video'\n",
      " 'điều hòa trung tâm multi' 'ogrzewanie (pompy ciepła)' 'soğutucu'\n",
      " 'điều hòa gia dụng' 'نظام التدفق المتغيرvrf' 'chiller enfriadoras'\n",
      " '49vl5g m' 'lg led bloc' 'uh' '55vm5e a' 'laec15' '55vm5j h' '49vl5f'\n",
      " 'standalone' 'corpouh5f' 'ledallinone' 'monitorindustrial_rmk'\n",
      " 'lg magnit' '特別顯示屏' 'signage' 'videowall_rmk' 'bu50nst' 'led 70m2'\n",
      " 'led cinema' '86uh5f' '55tc3d' '43us660h (na)' 'pro centric hotel'\n",
      " 'video wall + aio' 'hospitality' 'one:quick' '高亮度顯示屏' 'comercial tv'\n",
      " 'corpuh5f ' 'allinone_rmk' 'hoteleria_us670h' 'retaildigital' '軟體' '醫院電視'\n",
      " 'ctv' 'calefacción' 'autre' 'vb.' 'ac rumah'\n",
      " 'เครื่องปรับอากาศเผื่อที่อยู่อาศัย' 'aire acondicionado residencial'\n",
      " 'vrf   multi v s' 'systèmes de débit à réfrigérant variable (drv)'\n",
      " 'climatiseur résidentiel' 'multi split (plusieurs pièces)' 'aquecimento'\n",
      " 'khác' 'lg salang air solution for dream homes' 'rac single cac'\n",
      " 'services' 'آخر' 'vrf single split'\n",
      " 'vrf multi split single split chiller etc.' 'multi split single split'\n",
      " 'vrf multi split single split' 'vrf multi split etc.'\n",
      " 'vrf multi split heating' 'on or several reversible ac'\n",
      " 'vrf multi split single split chiller'\n",
      " 'vrf multi split single split heating' 'vrf single split chiller'\n",
      " 'commercial tv solar ess projector system ac tv washing machine home beauty audio video'\n",
      " 'solar robot' 'scroll compressor' 'pantalla led outdoor'\n",
      " 'klimatyzacja multi split'\n",
      " 'monitor signage commercial tv monior monitor tv pc projector tv audio video'\n",
      " 'not specified' 'single cac' 'kimatyzacja vrf'\n",
      " 'solar energy storage system' 'system ac solar'\n",
      " 'solar system ac water care' '55svh7f a' 'tr3' '98uh5e' 'inne'\n",
      " 'điều hòa trung tâm vrf' 'vrf heating'\n",
      " 'monitor signage monior monitor tv vacuum cleaner tv home beauty commercial tv pc refrigerator styler'\n",
      " 'refrigerator built in cooking' 'ems audio video'\n",
      " 'projector ems mobile audio video' 'smart tv' 'tv 55\"' 'surgical monitor'\n",
      " 'gsca046' 'gscd100' 'procentric' '32 pol' 'tv 43 pol' '43 pol'\n",
      " 'commercial tv solar ess monior monitor tv pc projector robot system ac ems rac chiller refrigerator '\n",
      " 'tv refrigerator' 'a definir' 'điều hòa trung tâm chiller'\n",
      " 'điều hòa cục bộ' 'lsca039' 'essential series' 'parts'\n",
      " 'monior monitor tv refrigerator audio video']\n"
     ]
    }
   ],
   "source": [
    "# other, others, etc.를 other로 통합\n",
    "df.loc[df['product_category'].str.contains('other') == True,'customer_type'] = 'other'\n",
    "df.loc[df['product_category'].str.contains('etc') == True,'customer_type'] = 'other'\n",
    "\n",
    "print(df['product_category'].count())\n",
    "print(df['product_category'].nunique())\n",
    "print(df['product_category'].unique())"
   ]
  },
  {
   "cell_type": "code",
   "execution_count": 20,
   "id": "a32b3a91",
   "metadata": {
    "scrolled": true
   },
   "outputs": [
    {
     "data": {
      "text/html": [
       "<div>\n",
       "<style scoped>\n",
       "    .dataframe tbody tr th:only-of-type {\n",
       "        vertical-align: middle;\n",
       "    }\n",
       "\n",
       "    .dataframe tbody tr th {\n",
       "        vertical-align: top;\n",
       "    }\n",
       "\n",
       "    .dataframe thead th {\n",
       "        text-align: right;\n",
       "    }\n",
       "</style>\n",
       "<table border=\"1\" class=\"dataframe\">\n",
       "  <thead>\n",
       "    <tr style=\"text-align: right;\">\n",
       "      <th></th>\n",
       "      <th>product_category</th>\n",
       "      <th>is_converted</th>\n",
       "    </tr>\n",
       "  </thead>\n",
       "  <tbody>\n",
       "    <tr>\n",
       "      <th>181</th>\n",
       "      <td>none</td>\n",
       "      <td>19374</td>\n",
       "    </tr>\n",
       "    <tr>\n",
       "      <th>98</th>\n",
       "      <td>interactive digital board</td>\n",
       "      <td>6154</td>\n",
       "    </tr>\n",
       "    <tr>\n",
       "      <th>314</th>\n",
       "      <td>vrf</td>\n",
       "      <td>5640</td>\n",
       "    </tr>\n",
       "    <tr>\n",
       "      <th>174</th>\n",
       "      <td>multi split</td>\n",
       "      <td>3676</td>\n",
       "    </tr>\n",
       "    <tr>\n",
       "      <th>309</th>\n",
       "      <td>video wall signage</td>\n",
       "      <td>2029</td>\n",
       "    </tr>\n",
       "    <tr>\n",
       "      <th>80</th>\n",
       "      <td>etc.</td>\n",
       "      <td>2018</td>\n",
       "    </tr>\n",
       "    <tr>\n",
       "      <th>114</th>\n",
       "      <td>led signage</td>\n",
       "      <td>1895</td>\n",
       "    </tr>\n",
       "    <tr>\n",
       "      <th>99</th>\n",
       "      <td>interactive signage</td>\n",
       "      <td>1862</td>\n",
       "    </tr>\n",
       "    <tr>\n",
       "      <th>234</th>\n",
       "      <td>single split</td>\n",
       "      <td>1574</td>\n",
       "    </tr>\n",
       "    <tr>\n",
       "      <th>212</th>\n",
       "      <td>rac</td>\n",
       "      <td>1447</td>\n",
       "    </tr>\n",
       "    <tr>\n",
       "      <th>184</th>\n",
       "      <td>oled signage</td>\n",
       "      <td>1350</td>\n",
       "    </tr>\n",
       "    <tr>\n",
       "      <th>91</th>\n",
       "      <td>hotel tv</td>\n",
       "      <td>1112</td>\n",
       "    </tr>\n",
       "    <tr>\n",
       "      <th>44</th>\n",
       "      <td>chiller</td>\n",
       "      <td>1051</td>\n",
       "    </tr>\n",
       "    <tr>\n",
       "      <th>263</th>\n",
       "      <td>standard signage</td>\n",
       "      <td>996</td>\n",
       "    </tr>\n",
       "    <tr>\n",
       "      <th>127</th>\n",
       "      <td>medical display</td>\n",
       "      <td>962</td>\n",
       "    </tr>\n",
       "    <tr>\n",
       "      <th>122</th>\n",
       "      <td>lg one:quick series</td>\n",
       "      <td>768</td>\n",
       "    </tr>\n",
       "    <tr>\n",
       "      <th>143</th>\n",
       "      <td>monitor</td>\n",
       "      <td>762</td>\n",
       "    </tr>\n",
       "    <tr>\n",
       "      <th>191</th>\n",
       "      <td>one:quick series</td>\n",
       "      <td>668</td>\n",
       "    </tr>\n",
       "    <tr>\n",
       "      <th>85</th>\n",
       "      <td>heating</td>\n",
       "      <td>655</td>\n",
       "    </tr>\n",
       "    <tr>\n",
       "      <th>87</th>\n",
       "      <td>high brightness signage</td>\n",
       "      <td>477</td>\n",
       "    </tr>\n",
       "    <tr>\n",
       "      <th>306</th>\n",
       "      <td>ventilation</td>\n",
       "      <td>420</td>\n",
       "    </tr>\n",
       "    <tr>\n",
       "      <th>283</th>\n",
       "      <td>teto ou cassete inverter</td>\n",
       "      <td>308</td>\n",
       "    </tr>\n",
       "    <tr>\n",
       "      <th>67</th>\n",
       "      <td>control</td>\n",
       "      <td>263</td>\n",
       "    </tr>\n",
       "    <tr>\n",
       "      <th>173</th>\n",
       "      <td>multi inverter</td>\n",
       "      <td>257</td>\n",
       "    </tr>\n",
       "    <tr>\n",
       "      <th>39</th>\n",
       "      <td>ar condicionado residencial</td>\n",
       "      <td>224</td>\n",
       "    </tr>\n",
       "    <tr>\n",
       "      <th>86</th>\n",
       "      <td>high brightness</td>\n",
       "      <td>219</td>\n",
       "    </tr>\n",
       "    <tr>\n",
       "      <th>237</th>\n",
       "      <td>software solution</td>\n",
       "      <td>191</td>\n",
       "    </tr>\n",
       "    <tr>\n",
       "      <th>28</th>\n",
       "      <td>accessories</td>\n",
       "      <td>179</td>\n",
       "    </tr>\n",
       "    <tr>\n",
       "      <th>259</th>\n",
       "      <td>special signage</td>\n",
       "      <td>172</td>\n",
       "    </tr>\n",
       "    <tr>\n",
       "      <th>89</th>\n",
       "      <td>hospital tv</td>\n",
       "      <td>153</td>\n",
       "    </tr>\n",
       "  </tbody>\n",
       "</table>\n",
       "</div>"
      ],
      "text/plain": [
       "                product_category  is_converted\n",
       "181                         none         19374\n",
       "98     interactive digital board          6154\n",
       "314                          vrf          5640\n",
       "174                  multi split          3676\n",
       "309           video wall signage          2029\n",
       "80                          etc.          2018\n",
       "114                  led signage          1895\n",
       "99           interactive signage          1862\n",
       "234                 single split          1574\n",
       "212                          rac          1447\n",
       "184                 oled signage          1350\n",
       "91                      hotel tv          1112\n",
       "44                       chiller          1051\n",
       "263             standard signage           996\n",
       "127              medical display           962\n",
       "122          lg one:quick series           768\n",
       "143                      monitor           762\n",
       "191             one:quick series           668\n",
       "85                       heating           655\n",
       "87       high brightness signage           477\n",
       "306                  ventilation           420\n",
       "283     teto ou cassete inverter           308\n",
       "67                       control           263\n",
       "173               multi inverter           257\n",
       "39   ar condicionado residencial           224\n",
       "86               high brightness           219\n",
       "237            software solution           191\n",
       "28                   accessories           179\n",
       "259              special signage           172\n",
       "89                   hospital tv           153"
      ]
     },
     "execution_count": 20,
     "metadata": {},
     "output_type": "execute_result"
    }
   ],
   "source": [
    "# 그룹으로 묶어 카테고리별 데이터 수 확인\n",
    "grouped_df = df.groupby('product_category')['is_converted'].count().reset_index()\n",
    "grouped_df = grouped_df.sort_values(by='is_converted', ascending=False)\n",
    "grouped_df[:30]"
   ]
  },
  {
   "cell_type": "code",
   "execution_count": 21,
   "id": "c2d74cda",
   "metadata": {},
   "outputs": [
    {
     "data": {
      "text/html": [
       "<div>\n",
       "<style scoped>\n",
       "    .dataframe tbody tr th:only-of-type {\n",
       "        vertical-align: middle;\n",
       "    }\n",
       "\n",
       "    .dataframe tbody tr th {\n",
       "        vertical-align: top;\n",
       "    }\n",
       "\n",
       "    .dataframe thead th {\n",
       "        text-align: right;\n",
       "    }\n",
       "</style>\n",
       "<table border=\"1\" class=\"dataframe\">\n",
       "  <thead>\n",
       "    <tr style=\"text-align: right;\">\n",
       "      <th></th>\n",
       "      <th>product_category</th>\n",
       "      <th>is_converted</th>\n",
       "    </tr>\n",
       "  </thead>\n",
       "  <tbody>\n",
       "    <tr>\n",
       "      <th>159</th>\n",
       "      <td>monitor signage mobile</td>\n",
       "      <td>1</td>\n",
       "    </tr>\n",
       "    <tr>\n",
       "      <th>161</th>\n",
       "      <td>monitor signage monior monitor tv commercial tv</td>\n",
       "      <td>1</td>\n",
       "    </tr>\n",
       "    <tr>\n",
       "      <th>162</th>\n",
       "      <td>monitor signage monior monitor tv pc tv</td>\n",
       "      <td>1</td>\n",
       "    </tr>\n",
       "    <tr>\n",
       "      <th>163</th>\n",
       "      <td>monitor signage monior monitor tv system ac va...</td>\n",
       "      <td>1</td>\n",
       "    </tr>\n",
       "    <tr>\n",
       "      <th>164</th>\n",
       "      <td>monitor signage monior monitor tv tv audio video</td>\n",
       "      <td>1</td>\n",
       "    </tr>\n",
       "    <tr>\n",
       "      <th>165</th>\n",
       "      <td>monitor signage monior monitor tv vacuum clean...</td>\n",
       "      <td>1</td>\n",
       "    </tr>\n",
       "    <tr>\n",
       "      <th>167</th>\n",
       "      <td>monitor signage solar</td>\n",
       "      <td>1</td>\n",
       "    </tr>\n",
       "    <tr>\n",
       "      <th>168</th>\n",
       "      <td>monitor signage solar monior monitor tv pc pro...</td>\n",
       "      <td>1</td>\n",
       "    </tr>\n",
       "    <tr>\n",
       "      <th>169</th>\n",
       "      <td>monitor signage solar robot water care</td>\n",
       "      <td>1</td>\n",
       "    </tr>\n",
       "    <tr>\n",
       "      <th>355</th>\n",
       "      <td>高亮度顯示屏</td>\n",
       "      <td>1</td>\n",
       "    </tr>\n",
       "  </tbody>\n",
       "</table>\n",
       "</div>"
      ],
      "text/plain": [
       "                                      product_category  is_converted\n",
       "159                             monitor signage mobile             1\n",
       "161    monitor signage monior monitor tv commercial tv             1\n",
       "162            monitor signage monior monitor tv pc tv             1\n",
       "163  monitor signage monior monitor tv system ac va...             1\n",
       "164   monitor signage monior monitor tv tv audio video             1\n",
       "165  monitor signage monior monitor tv vacuum clean...             1\n",
       "167                              monitor signage solar             1\n",
       "168  monitor signage solar monior monitor tv pc pro...             1\n",
       "169             monitor signage solar robot water care             1\n",
       "355                                             高亮度顯示屏             1"
      ]
     },
     "execution_count": 21,
     "metadata": {},
     "output_type": "execute_result"
    }
   ],
   "source": [
    "grouped_df[-10:]"
   ]
  },
  {
   "cell_type": "code",
   "execution_count": 22,
   "id": "686e91da",
   "metadata": {
    "scrolled": true
   },
   "outputs": [],
   "source": [
    "# # monitor signage를 포함하는 데이터 통합 -> monitor signage가 제일 앞에 있는 경향\n",
    "# # monior monitor tv를 포함하는 데이터 통합 -> 그 다음으로 많이 보임\n",
    "# # commercial tv, vrf multi split -> 마찬가지\n",
    "# df.loc[df['product_category'].str.contains('monitor signage') == True,'product_category'] = 'monitor signage'\n",
    "# df.loc[df['product_category'].str.contains('monior monitor tv') == True,'product_category'] = 'monior monitor tv'\n",
    "# df.loc[df['product_category'].str.contains('commercial tv') == True,'product_category'] = 'commercial tv'\n",
    "# df.loc[df['product_category'].str.contains('vrf multi split') == True,'product_category'] = 'vrf multi split'\n",
    "# print(df['product_category'].count())\n",
    "# print(df['product_category'].nunique())\n",
    "# print(df['product_category'].unique())"
   ]
  },
  {
   "cell_type": "code",
   "execution_count": 23,
   "id": "18a1c386",
   "metadata": {},
   "outputs": [
    {
     "name": "stdout",
     "output_type": "stream",
     "text": [
      "product_category    servicesmonitor & pccommercial tv tvaire acond...\n",
      "is_converted                                                      854\n",
      "dtype: object\n"
     ]
    },
    {
     "data": {
      "text/html": [
       "<div>\n",
       "<style scoped>\n",
       "    .dataframe tbody tr th:only-of-type {\n",
       "        vertical-align: middle;\n",
       "    }\n",
       "\n",
       "    .dataframe tbody tr th {\n",
       "        vertical-align: top;\n",
       "    }\n",
       "\n",
       "    .dataframe thead th {\n",
       "        text-align: right;\n",
       "    }\n",
       "</style>\n",
       "<table border=\"1\" class=\"dataframe\">\n",
       "  <thead>\n",
       "    <tr style=\"text-align: right;\">\n",
       "      <th></th>\n",
       "      <th>product_category</th>\n",
       "      <th>is_converted</th>\n",
       "    </tr>\n",
       "  </thead>\n",
       "  <tbody>\n",
       "    <tr>\n",
       "      <th>228</th>\n",
       "      <td>services</td>\n",
       "      <td>20</td>\n",
       "    </tr>\n",
       "    <tr>\n",
       "      <th>144</th>\n",
       "      <td>monitor &amp; pc</td>\n",
       "      <td>19</td>\n",
       "    </tr>\n",
       "    <tr>\n",
       "      <th>64</th>\n",
       "      <td>commercial tv tv</td>\n",
       "      <td>19</td>\n",
       "    </tr>\n",
       "    <tr>\n",
       "      <th>35</th>\n",
       "      <td>aire acondicionado residencial</td>\n",
       "      <td>18</td>\n",
       "    </tr>\n",
       "    <tr>\n",
       "      <th>192</th>\n",
       "      <td>onequick series</td>\n",
       "      <td>16</td>\n",
       "    </tr>\n",
       "    <tr>\n",
       "      <th>...</th>\n",
       "      <td>...</td>\n",
       "      <td>...</td>\n",
       "    </tr>\n",
       "    <tr>\n",
       "      <th>165</th>\n",
       "      <td>monitor signage monior monitor tv vacuum clean...</td>\n",
       "      <td>1</td>\n",
       "    </tr>\n",
       "    <tr>\n",
       "      <th>167</th>\n",
       "      <td>monitor signage solar</td>\n",
       "      <td>1</td>\n",
       "    </tr>\n",
       "    <tr>\n",
       "      <th>168</th>\n",
       "      <td>monitor signage solar monior monitor tv pc pro...</td>\n",
       "      <td>1</td>\n",
       "    </tr>\n",
       "    <tr>\n",
       "      <th>169</th>\n",
       "      <td>monitor signage solar robot water care</td>\n",
       "      <td>1</td>\n",
       "    </tr>\n",
       "    <tr>\n",
       "      <th>355</th>\n",
       "      <td>高亮度顯示屏</td>\n",
       "      <td>1</td>\n",
       "    </tr>\n",
       "  </tbody>\n",
       "</table>\n",
       "<p>296 rows × 2 columns</p>\n",
       "</div>"
      ],
      "text/plain": [
       "                                      product_category  is_converted\n",
       "228                                           services            20\n",
       "144                                       monitor & pc            19\n",
       "64                                    commercial tv tv            19\n",
       "35                      aire acondicionado residencial            18\n",
       "192                                    onequick series            16\n",
       "..                                                 ...           ...\n",
       "165  monitor signage monior monitor tv vacuum clean...             1\n",
       "167                              monitor signage solar             1\n",
       "168  monitor signage solar monior monitor tv pc pro...             1\n",
       "169             monitor signage solar robot water care             1\n",
       "355                                             高亮度顯示屏             1\n",
       "\n",
       "[296 rows x 2 columns]"
      ]
     },
     "execution_count": 23,
     "metadata": {},
     "output_type": "execute_result"
    }
   ],
   "source": [
    "# 카테고리가 20개 이하인 카테고리 none으로 치환\n",
    "# 모두 합하면 854개(약 2.1%)\n",
    "grouped_df = df.groupby('product_category')['is_converted'].count().reset_index()\n",
    "grouped_df = grouped_df.sort_values(by='is_converted', ascending=False)\n",
    "print(grouped_df[grouped_df['is_converted'] <= 20].sum())\n",
    "grouped_df[grouped_df['is_converted'] <= 20]"
   ]
  },
  {
   "cell_type": "code",
   "execution_count": 24,
   "id": "f3d28988",
   "metadata": {},
   "outputs": [
    {
     "name": "stdout",
     "output_type": "stream",
     "text": [
      "59299\n",
      "60\n",
      "['multi split' 'single split' 'vrf' 'chiller' 'etc.' 'rac'\n",
      " 'teto ou cassete inverter' 'none' 'software solution'\n",
      " 'all lg vrf systems' 'ventilation' 'a thermodynamic water heater'\n",
      " 'residential air conditioner' 'outros' 'heating' 'multi inverter'\n",
      " 'standard signage' 'high brightness signage' 'interactive signage'\n",
      " 'video wall signage' 'led signage' 'hotel tv' 'signage care solution'\n",
      " 'oled signage' 'idb' 'video wall' 'one:quick series' 'commercial tv'\n",
      " 'special signage' 'accessories' 'commercial display'\n",
      " 'interactive digital board' 'uhd signage' 'smart tv signage'\n",
      " 'lg one:quick series' 'pro:centric' 'ur640' 'ur640s' 'webos'\n",
      " 'high brightness' 'hospital tv' 'digital signage' 'monitor' 'pc' 'laptop'\n",
      " 'projector' 'cloud device' 'medical display'\n",
      " 'monitor signage monior monitor tv' 'solar ess' '43us660h0sd.awz'\n",
      " 'control' 'multi v 5 air' 'ar condicionado residencial'\n",
      " 'technical support' 'medical displays' 'virtual production'\n",
      " 'ogrzewanie (pompy ciepła)' 'ledallinone' 'videowall_rmk']\n"
     ]
    }
   ],
   "source": [
    "low_num_category = grouped_df[grouped_df['is_converted'] <= 20]['product_category']\n",
    "\n",
    "# low_num_에 있는 단어를 'none'으로 치환하는 함수\n",
    "# 데이터프레임의 'product_category' 열에 함수를 적용하여 치환\n",
    "df['product_category'] = df['product_category'].apply(lambda x: replace_words_with_n(x, low_num_category))\n",
    "\n",
    "print(df['product_category'].count())\n",
    "print(df['product_category'].nunique())\n",
    "print(df['product_category'].unique())"
   ]
  },
  {
   "cell_type": "code",
   "execution_count": 25,
   "id": "1ec45847-5cd4-4572-bf60-5f2871fa6cc8",
   "metadata": {},
   "outputs": [],
   "source": [
    "############## product_category 전처리_test_ver #############\n",
    "\n",
    "df_test['product_category'] = df_test['product_category'].str.lower()\n",
    "df_test.loc[df_test['product_category'].isnull() == True, 'product_category'] = 'none'\n",
    "df_test['product_category'] = df_test['product_category'].apply(replace_symbols)\n",
    "\n",
    "df_test.loc[df['product_category'].str.contains('other') == True,'customer_type'] = 'other'\n",
    "df_test.loc[df['product_category'].str.contains('etc') == True,'customer_type'] = 'other'\n",
    "\n",
    "grouped_df_test = df_test.groupby('product_category')['is_converted'].count().reset_index()\n",
    "grouped_df_test = grouped_df_test.sort_values(by='is_converted', ascending=False)\n",
    "low_num_category_test = grouped_df_test[grouped_df_test['is_converted'] <= 20]['product_category']\n",
    "df_test['product_category'] = df_test['product_category'].apply(lambda x: replace_words_with_n(x, low_num_category_test))\n"
   ]
  },
  {
   "cell_type": "markdown",
   "id": "2a5dd4dc",
   "metadata": {},
   "source": [
    "# customer_position"
   ]
  },
  {
   "cell_type": "code",
   "execution_count": 26,
   "id": "74bb6da9",
   "metadata": {},
   "outputs": [
    {
     "name": "stdout",
     "output_type": "stream",
     "text": [
      "59299\n",
      "19680\n",
      "0\n",
      "113\n",
      "['entry level' 'ceo founder' 'partner' 'manager' 'vice president'\n",
      " 'associate analyst' 'c level executive' 'none' 'director' 'other'\n",
      " 'intern' 'trainee'\n",
      " 'this is a consume display requirement for home purpose.' 'vicepresident'\n",
      " 'consulting' 'entrylevel' 'c levelexecutive' 'unpaid' 'physics teacher'\n",
      " 'assistant professor' 'av management' 'maths lecturer' 'founder'\n",
      " 'engineering' 'installer' 'homeowner' 'consultant' 'commercial end user'\n",
      " 'employee' 'bulgaria' 'lider de desarrollo' 'administrative'\n",
      " 'entrepreneurship' 'decision influencer' 'decision maker' 'customer'\n",
      " 'not applicable' 'no influence' 'commercial consultant' 'science teacher'\n",
      " 'technical' 'architecture consult' 'architect consultant' 'exhibition'\n",
      " 'hospital' 'end user' 'government' 'manufacturer'\n",
      " 'software solution provider' 'system integrator'\n",
      " 'medical device manufacturer' 'distributor' 'business unit director'\n",
      " 'business development' 'operations' 'vp' 'cargo' 'guest faculty'\n",
      " 'physics faculty' 'career coach' 'leadership executive office owner'\n",
      " 'product management' 'market intelligence research'\n",
      " 'teacher middle school coordinator' 'prof.' 'academic specialist'\n",
      " 'principal at oxford integrated pu science college'\n",
      " 'math and physics teacher' 'professor of mathematics'\n",
      " 'physics and mathematics teacher' 'assistant professor of enlish'\n",
      " 'educator' 'professor' 'quantitative aptitude faculty'\n",
      " 'english trainer for ielts toefl pte gre sat exams.'\n",
      " 'associate professor' 'principal & director' 'business partner'\n",
      " 'hon dean' 'chairman' 'pgt physics' 'education professional'\n",
      " 'chemistry teacher'\n",
      " 'director cum faculty at gaining apex coaching centre'\n",
      " 'academic coordinator post graduate teacher (accountancy business studies) tgt (ict)'\n",
      " 'teacher' 'senior lecturer' 'neet olympiad expert faculty' 'asst prof.'\n",
      " 'associate professor in electronics engg' 'professional trainer'\n",
      " 'co founder' 'chief executive officer' 'subsidiary sales (ise)'\n",
      " 'ceo fundador' 'gerente' 'medical imaging specialist' 'tierarzt'\n",
      " 'education' 'president' 'business development sales' 'sales' 'técnico'\n",
      " 'exhibitiontv' 'proprietário(a)' 'genel müdür' 'mindenes' 'főorvos'\n",
      " 'surgery professional' 'pathologist' 'research' 'the big boss'\n",
      " 'radiology professional']\n"
     ]
    }
   ],
   "source": [
    "import re\n",
    "print(df['customer_position'].count())\n",
    "# 소문자로 치환\n",
    "df['customer_position'] = df['customer_position'].str.lower()\n",
    "# other, others, etc.를 other로 통합\n",
    "df.loc[df['customer_position'].str.contains('other') == True,'customer_position'] = 'other'\n",
    "df.loc[df['customer_position'].str.contains('etc') == True,'customer_position'] = 'other'\n",
    "\n",
    "# null값 n으로 치환. none과 null값은 다른것으로 판단\n",
    "# null값 없음\n",
    "df.loc[df['customer_position'].isnull() == True, 'customer_position'] = 'n'\n",
    "print(df[df['customer_position'] =='none']['customer_position'].count())\n",
    "print(df[df['customer_position'] =='n']['customer_position'].count())\n",
    "# none이 아닌 데이터 약 4만개\n",
    "\n",
    "# 기호들을 공백으로 치환\n",
    "def replace_symbols(text):\n",
    "    # 만약 문자열이 아니면 그대로 반환\n",
    "    if not isinstance(text, str):\n",
    "        return text\n",
    "    text = text.replace(',', ' ').replace('-', ' ').replace('/', ' ')\n",
    "    # 단어 사이의 공백이 두 칸 이상인 부분을 공백 한 칸으로 바꿈\n",
    "    text = re.sub(r'\\s{2,}', ' ', text)\n",
    "    return text\n",
    "\n",
    "replaced_df = df['customer_position'].apply(replace_symbols)\n",
    "df['customer_position'] = replaced_df\n",
    "\n",
    "print(df['customer_position'].nunique())\n",
    "print(df['customer_position'].unique())"
   ]
  },
  {
   "cell_type": "code",
   "execution_count": 27,
   "id": "bdc507f3",
   "metadata": {},
   "outputs": [],
   "source": [
    "# # 특정 단어 수 이상인 문장 제거\n",
    "# def replace_long_sentences(sentences, threshold):\n",
    "#     updated_sentences = []\n",
    "#     for sentence in sentences:\n",
    "#         # 문장을 단어로 분할하여 단어의 개수를 세기\n",
    "#         words = sentence.split()\n",
    "#         if len(words) >= threshold:\n",
    "#             # 'n'으로 치환\n",
    "#             updated_sentences.append('none')\n",
    "#         else:\n",
    "#             updated_sentences.append(sentence)\n",
    "#     return updated_sentences\n",
    "\n",
    "# filtered_sentences = replace_long_sentences(df['customer_position'], 5)\n",
    "# df['customer_position'] = filtered_sentences\n",
    "# print(df['customer_position'].count())\n",
    "# print(df['customer_position'].nunique())\n",
    "# print(df['customer_position'].unique())"
   ]
  },
  {
   "cell_type": "code",
   "execution_count": 28,
   "id": "05143389",
   "metadata": {},
   "outputs": [
    {
     "name": "stdout",
     "output_type": "stream",
     "text": [
      "customer_position    unpaiddecision influenceremployeedecision make...\n",
      "is_converted                                                       252\n",
      "dtype: object\n"
     ]
    },
    {
     "data": {
      "text/html": [
       "<div>\n",
       "<style scoped>\n",
       "    .dataframe tbody tr th:only-of-type {\n",
       "        vertical-align: middle;\n",
       "    }\n",
       "\n",
       "    .dataframe tbody tr th {\n",
       "        vertical-align: top;\n",
       "    }\n",
       "\n",
       "    .dataframe thead th {\n",
       "        text-align: right;\n",
       "    }\n",
       "</style>\n",
       "<table border=\"1\" class=\"dataframe\">\n",
       "  <thead>\n",
       "    <tr style=\"text-align: right;\">\n",
       "      <th></th>\n",
       "      <th>customer_position</th>\n",
       "      <th>is_converted</th>\n",
       "    </tr>\n",
       "  </thead>\n",
       "  <tbody>\n",
       "    <tr>\n",
       "      <th>109</th>\n",
       "      <td>unpaid</td>\n",
       "      <td>17</td>\n",
       "    </tr>\n",
       "    <tr>\n",
       "      <th>32</th>\n",
       "      <td>decision influencer</td>\n",
       "      <td>16</td>\n",
       "    </tr>\n",
       "    <tr>\n",
       "      <th>40</th>\n",
       "      <td>employee</td>\n",
       "      <td>14</td>\n",
       "    </tr>\n",
       "    <tr>\n",
       "      <th>33</th>\n",
       "      <td>decision maker</td>\n",
       "      <td>12</td>\n",
       "    </tr>\n",
       "    <tr>\n",
       "      <th>111</th>\n",
       "      <td>vicepresident</td>\n",
       "      <td>11</td>\n",
       "    </tr>\n",
       "    <tr>\n",
       "      <th>...</th>\n",
       "      <td>...</td>\n",
       "      <td>...</td>\n",
       "    </tr>\n",
       "    <tr>\n",
       "      <th>66</th>\n",
       "      <td>maths lecturer</td>\n",
       "      <td>1</td>\n",
       "    </tr>\n",
       "    <tr>\n",
       "      <th>69</th>\n",
       "      <td>mindenes</td>\n",
       "      <td>1</td>\n",
       "    </tr>\n",
       "    <tr>\n",
       "      <th>70</th>\n",
       "      <td>neet olympiad expert faculty</td>\n",
       "      <td>1</td>\n",
       "    </tr>\n",
       "    <tr>\n",
       "      <th>77</th>\n",
       "      <td>pathologist</td>\n",
       "      <td>1</td>\n",
       "    </tr>\n",
       "    <tr>\n",
       "      <th>112</th>\n",
       "      <td>vp</td>\n",
       "      <td>1</td>\n",
       "    </tr>\n",
       "  </tbody>\n",
       "</table>\n",
       "<p>91 rows × 2 columns</p>\n",
       "</div>"
      ],
      "text/plain": [
       "                customer_position  is_converted\n",
       "109                        unpaid            17\n",
       "32            decision influencer            16\n",
       "40                       employee            14\n",
       "33                 decision maker            12\n",
       "111                 vicepresident            11\n",
       "..                            ...           ...\n",
       "66                 maths lecturer             1\n",
       "69                       mindenes             1\n",
       "70   neet olympiad expert faculty             1\n",
       "77                    pathologist             1\n",
       "112                            vp             1\n",
       "\n",
       "[91 rows x 2 columns]"
      ]
     },
     "execution_count": 28,
     "metadata": {},
     "output_type": "execute_result"
    }
   ],
   "source": [
    "# 카테고리가 20개 이하인 카테고리 n으로 치환\n",
    "# 10개 이하인 카테고리 252개 (약 0.6%)\n",
    "grouped_df = df.groupby('customer_position')['is_converted'].count().reset_index()\n",
    "grouped_df = grouped_df.sort_values(by='is_converted', ascending=False)\n",
    "print(grouped_df[grouped_df['is_converted'] <= 20].sum())\n",
    "grouped_df[grouped_df['is_converted'] <= 20]"
   ]
  },
  {
   "cell_type": "code",
   "execution_count": 29,
   "id": "8cc47bc9",
   "metadata": {},
   "outputs": [
    {
     "name": "stdout",
     "output_type": "stream",
     "text": [
      "59299\n",
      "22\n",
      "['entry level' 'ceo founder' 'partner' 'manager' 'vice president'\n",
      " 'associate analyst' 'c level executive' 'none' 'director' 'other'\n",
      " 'intern' 'trainee' 'installer' 'homeowner' 'consultant' 'hospital'\n",
      " 'end user' 'government' 'manufacturer' 'software solution provider'\n",
      " 'system integrator' 'cargo']\n"
     ]
    }
   ],
   "source": [
    "low_num_position = grouped_df[grouped_df['is_converted'] <= 20]['customer_position']\n",
    "\n",
    "# low_num_position에 있는 단어를 'n'으로 치환하는 함수\n",
    "# 데이터프레임의 'customer_position' 열에 함수를 적용하여 치환\n",
    "df['customer_position'] = df['customer_position'].apply(lambda x: replace_words_with_n(x, low_num_position))\n",
    "\n",
    "print(df['customer_position'].count())\n",
    "print(df['customer_position'].nunique())\n",
    "print(df['customer_position'].unique())"
   ]
  },
  {
   "cell_type": "code",
   "execution_count": 30,
   "id": "cde3f80a-af9d-4c4b-806e-93771ca545db",
   "metadata": {},
   "outputs": [],
   "source": [
    "############## customer_position 전처리_test_ver #############\n",
    "\n",
    "df_test['customer_position'] = df_test['customer_position'].str.lower()\n",
    "df_test.loc[df_test['customer_position'].str.contains('other') == True,'customer_position'] = 'other'\n",
    "df_test.loc[df_test['customer_position'].str.contains('etc') == True,'customer_position'] = 'other'\n",
    "df_test.loc[df['customer_position'].isnull() == True, 'customer_position'] = 'n'\n",
    "df_test['customer_position'] = df_test['customer_position'].apply(replace_symbols)\n",
    "\n",
    "grouped_df_test = df_test.groupby('customer_position')['is_converted'].count().reset_index()\n",
    "grouped_df_test = grouped_df_test.sort_values(by='is_converted', ascending=False)\n",
    "low_num_position_test = grouped_df_test[grouped_df_test['is_converted'] <= 20]['customer_position']\n",
    "df_test['customer_position'] = df_test['customer_position'].apply(lambda x: replace_words_with_n(x, low_num_position_test))\n"
   ]
  },
  {
   "cell_type": "markdown",
   "id": "b5d543cf",
   "metadata": {},
   "source": [
    "# response_corporate"
   ]
  },
  {
   "cell_type": "code",
   "execution_count": 31,
   "id": "2b6fdea2",
   "metadata": {
    "scrolled": true
   },
   "outputs": [
    {
     "name": "stdout",
     "output_type": "stream",
     "text": [
      "53\n",
      "['LGEPH' 'LGEIL' 'LGEAF' 'LGESJ' 'LGESL' 'LGESP' 'LGEGF' 'LGESA' 'LGEUS'\n",
      " 'LGECB' 'LGEMS' 'LGEEG' 'LGEEF' 'LGEAP' 'LGEIN' 'LGEUK' 'LGEKR' 'LGEPS'\n",
      " 'LGECI' 'LGECL' 'LGETK' 'LGELF' 'LGEPT' 'LGEPR' 'LGEDG' 'LGERO' 'LGEMK'\n",
      " 'LGEPL' 'LGECZ' 'LGEES' 'LGEAR' 'LGEHK' 'LGEML' 'LGEJP' 'LGEHS' 'LGEAS'\n",
      " 'LGEYK' 'LGEIS' 'LGEBN' 'LGEFS' 'LGESW' 'LGEMC' 'LGEAG' 'LGEEB' 'LGETH'\n",
      " 'LGEVH' 'LGECH' 'LGELA' 'LGETT' 'LGERA' 'LGEUR' 'LGEIR' 'LGEBT']\n"
     ]
    },
    {
     "data": {
      "text/html": [
       "<div>\n",
       "<style scoped>\n",
       "    .dataframe tbody tr th:only-of-type {\n",
       "        vertical-align: middle;\n",
       "    }\n",
       "\n",
       "    .dataframe tbody tr th {\n",
       "        vertical-align: top;\n",
       "    }\n",
       "\n",
       "    .dataframe thead th {\n",
       "        text-align: right;\n",
       "    }\n",
       "</style>\n",
       "<table border=\"1\" class=\"dataframe\">\n",
       "  <thead>\n",
       "    <tr style=\"text-align: right;\">\n",
       "      <th></th>\n",
       "      <th>response_corporate</th>\n",
       "      <th>is_converted</th>\n",
       "    </tr>\n",
       "  </thead>\n",
       "  <tbody>\n",
       "    <tr>\n",
       "      <th>21</th>\n",
       "      <td>LGEIL</td>\n",
       "      <td>16908</td>\n",
       "    </tr>\n",
       "    <tr>\n",
       "      <th>43</th>\n",
       "      <td>LGESP</td>\n",
       "      <td>9311</td>\n",
       "    </tr>\n",
       "    <tr>\n",
       "      <th>50</th>\n",
       "      <td>LGEUS</td>\n",
       "      <td>5955</td>\n",
       "    </tr>\n",
       "    <tr>\n",
       "      <th>32</th>\n",
       "      <td>LGEMS</td>\n",
       "      <td>2768</td>\n",
       "    </tr>\n",
       "    <tr>\n",
       "      <th>33</th>\n",
       "      <td>LGEPH</td>\n",
       "      <td>2651</td>\n",
       "    </tr>\n",
       "    <tr>\n",
       "      <th>18</th>\n",
       "      <td>LGEGF</td>\n",
       "      <td>2149</td>\n",
       "    </tr>\n",
       "    <tr>\n",
       "      <th>7</th>\n",
       "      <td>LGECB</td>\n",
       "      <td>2079</td>\n",
       "    </tr>\n",
       "    <tr>\n",
       "      <th>48</th>\n",
       "      <td>LGEUK</td>\n",
       "      <td>1651</td>\n",
       "    </tr>\n",
       "    <tr>\n",
       "      <th>41</th>\n",
       "      <td>LGESJ</td>\n",
       "      <td>1469</td>\n",
       "    </tr>\n",
       "    <tr>\n",
       "      <th>10</th>\n",
       "      <td>LGECL</td>\n",
       "      <td>1339</td>\n",
       "    </tr>\n",
       "    <tr>\n",
       "      <th>36</th>\n",
       "      <td>LGEPS</td>\n",
       "      <td>1252</td>\n",
       "    </tr>\n",
       "    <tr>\n",
       "      <th>24</th>\n",
       "      <td>LGEIS</td>\n",
       "      <td>1146</td>\n",
       "    </tr>\n",
       "    <tr>\n",
       "      <th>35</th>\n",
       "      <td>LGEPR</td>\n",
       "      <td>1131</td>\n",
       "    </tr>\n",
       "    <tr>\n",
       "      <th>12</th>\n",
       "      <td>LGEDG</td>\n",
       "      <td>1051</td>\n",
       "    </tr>\n",
       "    <tr>\n",
       "      <th>34</th>\n",
       "      <td>LGEPL</td>\n",
       "      <td>850</td>\n",
       "    </tr>\n",
       "    <tr>\n",
       "      <th>15</th>\n",
       "      <td>LGEEG</td>\n",
       "      <td>704</td>\n",
       "    </tr>\n",
       "    <tr>\n",
       "      <th>51</th>\n",
       "      <td>LGEVH</td>\n",
       "      <td>614</td>\n",
       "    </tr>\n",
       "    <tr>\n",
       "      <th>16</th>\n",
       "      <td>LGEES</td>\n",
       "      <td>592</td>\n",
       "    </tr>\n",
       "    <tr>\n",
       "      <th>46</th>\n",
       "      <td>LGETK</td>\n",
       "      <td>541</td>\n",
       "    </tr>\n",
       "    <tr>\n",
       "      <th>3</th>\n",
       "      <td>LGEAR</td>\n",
       "      <td>491</td>\n",
       "    </tr>\n",
       "    <tr>\n",
       "      <th>26</th>\n",
       "      <td>LGEKR</td>\n",
       "      <td>433</td>\n",
       "    </tr>\n",
       "    <tr>\n",
       "      <th>19</th>\n",
       "      <td>LGEHK</td>\n",
       "      <td>383</td>\n",
       "    </tr>\n",
       "    <tr>\n",
       "      <th>2</th>\n",
       "      <td>LGEAP</td>\n",
       "      <td>366</td>\n",
       "    </tr>\n",
       "    <tr>\n",
       "      <th>42</th>\n",
       "      <td>LGESL</td>\n",
       "      <td>348</td>\n",
       "    </tr>\n",
       "    <tr>\n",
       "      <th>30</th>\n",
       "      <td>LGEMK</td>\n",
       "      <td>331</td>\n",
       "    </tr>\n",
       "    <tr>\n",
       "      <th>17</th>\n",
       "      <td>LGEFS</td>\n",
       "      <td>302</td>\n",
       "    </tr>\n",
       "    <tr>\n",
       "      <th>0</th>\n",
       "      <td>LGEAF</td>\n",
       "      <td>288</td>\n",
       "    </tr>\n",
       "    <tr>\n",
       "      <th>22</th>\n",
       "      <td>LGEIN</td>\n",
       "      <td>281</td>\n",
       "    </tr>\n",
       "    <tr>\n",
       "      <th>28</th>\n",
       "      <td>LGELF</td>\n",
       "      <td>274</td>\n",
       "    </tr>\n",
       "    <tr>\n",
       "      <th>40</th>\n",
       "      <td>LGESA</td>\n",
       "      <td>268</td>\n",
       "    </tr>\n",
       "    <tr>\n",
       "      <th>9</th>\n",
       "      <td>LGECI</td>\n",
       "      <td>263</td>\n",
       "    </tr>\n",
       "    <tr>\n",
       "      <th>45</th>\n",
       "      <td>LGETH</td>\n",
       "      <td>185</td>\n",
       "    </tr>\n",
       "    <tr>\n",
       "      <th>14</th>\n",
       "      <td>LGEEF</td>\n",
       "      <td>159</td>\n",
       "    </tr>\n",
       "    <tr>\n",
       "      <th>37</th>\n",
       "      <td>LGEPT</td>\n",
       "      <td>111</td>\n",
       "    </tr>\n",
       "    <tr>\n",
       "      <th>31</th>\n",
       "      <td>LGEML</td>\n",
       "      <td>110</td>\n",
       "    </tr>\n",
       "    <tr>\n",
       "      <th>5</th>\n",
       "      <td>LGEBN</td>\n",
       "      <td>99</td>\n",
       "    </tr>\n",
       "    <tr>\n",
       "      <th>52</th>\n",
       "      <td>LGEYK</td>\n",
       "      <td>78</td>\n",
       "    </tr>\n",
       "    <tr>\n",
       "      <th>8</th>\n",
       "      <td>LGECH</td>\n",
       "      <td>65</td>\n",
       "    </tr>\n",
       "    <tr>\n",
       "      <th>20</th>\n",
       "      <td>LGEHS</td>\n",
       "      <td>51</td>\n",
       "    </tr>\n",
       "    <tr>\n",
       "      <th>47</th>\n",
       "      <td>LGETT</td>\n",
       "      <td>47</td>\n",
       "    </tr>\n",
       "    <tr>\n",
       "      <th>25</th>\n",
       "      <td>LGEJP</td>\n",
       "      <td>41</td>\n",
       "    </tr>\n",
       "    <tr>\n",
       "      <th>4</th>\n",
       "      <td>LGEAS</td>\n",
       "      <td>33</td>\n",
       "    </tr>\n",
       "    <tr>\n",
       "      <th>44</th>\n",
       "      <td>LGESW</td>\n",
       "      <td>31</td>\n",
       "    </tr>\n",
       "    <tr>\n",
       "      <th>29</th>\n",
       "      <td>LGEMC</td>\n",
       "      <td>30</td>\n",
       "    </tr>\n",
       "    <tr>\n",
       "      <th>39</th>\n",
       "      <td>LGERO</td>\n",
       "      <td>29</td>\n",
       "    </tr>\n",
       "    <tr>\n",
       "      <th>13</th>\n",
       "      <td>LGEEB</td>\n",
       "      <td>13</td>\n",
       "    </tr>\n",
       "    <tr>\n",
       "      <th>38</th>\n",
       "      <td>LGERA</td>\n",
       "      <td>8</td>\n",
       "    </tr>\n",
       "    <tr>\n",
       "      <th>1</th>\n",
       "      <td>LGEAG</td>\n",
       "      <td>8</td>\n",
       "    </tr>\n",
       "    <tr>\n",
       "      <th>11</th>\n",
       "      <td>LGECZ</td>\n",
       "      <td>7</td>\n",
       "    </tr>\n",
       "    <tr>\n",
       "      <th>27</th>\n",
       "      <td>LGELA</td>\n",
       "      <td>2</td>\n",
       "    </tr>\n",
       "    <tr>\n",
       "      <th>23</th>\n",
       "      <td>LGEIR</td>\n",
       "      <td>1</td>\n",
       "    </tr>\n",
       "    <tr>\n",
       "      <th>6</th>\n",
       "      <td>LGEBT</td>\n",
       "      <td>1</td>\n",
       "    </tr>\n",
       "    <tr>\n",
       "      <th>49</th>\n",
       "      <td>LGEUR</td>\n",
       "      <td>1</td>\n",
       "    </tr>\n",
       "  </tbody>\n",
       "</table>\n",
       "</div>"
      ],
      "text/plain": [
       "   response_corporate  is_converted\n",
       "21              LGEIL         16908\n",
       "43              LGESP          9311\n",
       "50              LGEUS          5955\n",
       "32              LGEMS          2768\n",
       "33              LGEPH          2651\n",
       "18              LGEGF          2149\n",
       "7               LGECB          2079\n",
       "48              LGEUK          1651\n",
       "41              LGESJ          1469\n",
       "10              LGECL          1339\n",
       "36              LGEPS          1252\n",
       "24              LGEIS          1146\n",
       "35              LGEPR          1131\n",
       "12              LGEDG          1051\n",
       "34              LGEPL           850\n",
       "15              LGEEG           704\n",
       "51              LGEVH           614\n",
       "16              LGEES           592\n",
       "46              LGETK           541\n",
       "3               LGEAR           491\n",
       "26              LGEKR           433\n",
       "19              LGEHK           383\n",
       "2               LGEAP           366\n",
       "42              LGESL           348\n",
       "30              LGEMK           331\n",
       "17              LGEFS           302\n",
       "0               LGEAF           288\n",
       "22              LGEIN           281\n",
       "28              LGELF           274\n",
       "40              LGESA           268\n",
       "9               LGECI           263\n",
       "45              LGETH           185\n",
       "14              LGEEF           159\n",
       "37              LGEPT           111\n",
       "31              LGEML           110\n",
       "5               LGEBN            99\n",
       "52              LGEYK            78\n",
       "8               LGECH            65\n",
       "20              LGEHS            51\n",
       "47              LGETT            47\n",
       "25              LGEJP            41\n",
       "4               LGEAS            33\n",
       "44              LGESW            31\n",
       "29              LGEMC            30\n",
       "39              LGERO            29\n",
       "13              LGEEB            13\n",
       "38              LGERA             8\n",
       "1               LGEAG             8\n",
       "11              LGECZ             7\n",
       "27              LGELA             2\n",
       "23              LGEIR             1\n",
       "6               LGEBT             1\n",
       "49              LGEUR             1"
      ]
     },
     "execution_count": 31,
     "metadata": {},
     "output_type": "execute_result"
    }
   ],
   "source": [
    "print(df['response_corporate'].nunique())\n",
    "print(df['response_corporate'].unique())\n",
    "grouped_df = df.groupby('response_corporate')['is_converted'].count().reset_index()\n",
    "grouped_df = grouped_df.sort_values(by='is_converted', ascending=False)\n",
    "grouped_df"
   ]
  },
  {
   "cell_type": "markdown",
   "id": "43db82d1",
   "metadata": {},
   "source": [
    "# expected_timeline"
   ]
  },
  {
   "cell_type": "code",
   "execution_count": 32,
   "id": "cf8c0ee1",
   "metadata": {},
   "outputs": [
    {
     "name": "stdout",
     "output_type": "stream",
     "text": [
      "449\n",
      "['less than 3 months' nan '3 months ~ 6 months' '9 months ~ 1 year'\n",
      " 'more than a year' '6 months ~ 9 months'\n",
      " 'quote has been sent to customer.'\n",
      " 'partner was exploring on eol model for some requiremeent. no designated sales or closure expected hence closing in the system.'\n",
      " 'already close in july purchse with rd'\n",
      " 'client not interested in product.. receing call and not answering properly']\n"
     ]
    }
   ],
   "source": [
    "print(df['expected_timeline'].nunique())\n",
    "print(df['expected_timeline'].unique()[:10])"
   ]
  },
  {
   "cell_type": "code",
   "execution_count": 33,
   "id": "29c520fa",
   "metadata": {},
   "outputs": [],
   "source": [
    "# # 특수문자를 단순 제거하면 안된다\n",
    "# df['expected_timeline'] = df['expected_timeline'].str.lower()\n",
    "# # 알파벳, 숫자, 공백을 제외한 모든 문자 제거하는 함수\n",
    "# def remove_special_characters(text):\n",
    "#     pattern = r'[^a-zA-Z0-9\\s]'  # 알파벳과 숫자, 공백을 제외한 모든 문자\n",
    "#     text = re.sub(pattern, '', text)\n",
    "#     text = re.sub(r'\\s{2,}', ' ', text)  # 단어 사이의 공백이 두 칸 이상인 부분을 공백 한 칸으로 바꿈\n",
    "#     return text\n",
    "\n",
    "# # 'expected_timeline' 열의 모든 값을 문자열로 변환하여 리스트로 가져옴\n",
    "# expected_timeline = df['expected_timeline'].astype(str).tolist()\n",
    "\n",
    "# # 각 문자열에 대해 특수 문자 제거 함수를 적용하여 변환된 값들을 리스트로 저장\n",
    "# cleaned_expected_timeline = [remove_special_characters(text) for text in expected_timeline]\n",
    "\n",
    "# # 변환된 값들을 다시 DataFrame의 'expected_timeline' 열에 할당\n",
    "# df['expected_timeline'] = cleaned_expected_timeline"
   ]
  },
  {
   "cell_type": "code",
   "execution_count": 34,
   "id": "32cbbf01",
   "metadata": {},
   "outputs": [
    {
     "name": "stderr",
     "output_type": "stream",
     "text": [
      "[nltk_data] Downloading package averaged_perceptron_tagger to\n",
      "[nltk_data]     /home/elicer/nltk_data...\n",
      "[nltk_data]   Package averaged_perceptron_tagger is already up-to-\n",
      "[nltk_data]       date!\n",
      "[nltk_data] Downloading package punkt to /home/elicer/nltk_data...\n",
      "[nltk_data]   Package punkt is already up-to-date!\n",
      "[nltk_data] Downloading package stopwords to /home/elicer/nltk_data...\n",
      "[nltk_data]   Package stopwords is already up-to-date!\n"
     ]
    },
    {
     "data": {
      "text/plain": [
       "True"
      ]
     },
     "execution_count": 34,
     "metadata": {},
     "output_type": "execute_result"
    }
   ],
   "source": [
    "from nltk.tokenize import word_tokenize\n",
    "from nltk.tag import pos_tag\n",
    "import nltk\n",
    "nltk.download('averaged_perceptron_tagger')\n",
    "nltk.download('punkt')\n",
    "nltk.download('stopwords')"
   ]
  },
  {
   "cell_type": "code",
   "execution_count": 35,
   "id": "97d0469d",
   "metadata": {},
   "outputs": [],
   "source": [
    "# 토큰화 & 불용어 제거\n",
    "from nltk.corpus import stopwords\n",
    "from konlpy.tag import Okt\n",
    "from nltk.stem import PorterStemmer\n",
    "\n",
    "# 불용어 제거를 위한 영어 불용어 리스트\n",
    "stop_words = set(stopwords.words('english'))\n",
    "\n",
    "# 어간 추출\n",
    "stemmer = PorterStemmer()\n",
    "\n",
    "# 텍스트 데이터\n",
    "text = df['expected_timeline'].astype(str)\n",
    "\n",
    "# 각 문장을 단어로 토큰화한 후 불용어를 제거하는 과정\n",
    "tokenized_sentences = []\n",
    "for sentence in text:\n",
    "    # 문장을 단어로 토큰화\n",
    "    tokens = word_tokenize(sentence)\n",
    "    # 불용어 제거 & 어간 추출\n",
    "    filtered_sentence = [stemmer.stem(word.lower()) for word in tokens if word.lower() not in stop_words]\n",
    "    tokenized_sentences.append(filtered_sentence)\n",
    "\n",
    "tokenized_sentences = pd.Series(tokenized_sentences)\n",
    "df['expected_timeline'] = tokenized_sentences"
   ]
  },
  {
   "cell_type": "code",
   "execution_count": 36,
   "id": "3ce793cb",
   "metadata": {},
   "outputs": [
    {
     "data": {
      "text/plain": [
       "0                 [356, 50, 392]\n",
       "1                 [356, 50, 392]\n",
       "2                 [356, 50, 392]\n",
       "3                 [356, 50, 392]\n",
       "4                 [356, 50, 392]\n",
       "                  ...           \n",
       "59294    [50, 392, 658, 72, 392]\n",
       "59295    [91, 392, 658, 18, 654]\n",
       "59296             [356, 50, 392]\n",
       "59297                      [654]\n",
       "59298             [356, 50, 392]\n",
       "Name: expected_timeline, Length: 59299, dtype: object"
      ]
     },
     "execution_count": 36,
     "metadata": {},
     "output_type": "execute_result"
    }
   ],
   "source": [
    "\n",
    "# 정수 인코딩\n",
    "from sklearn.preprocessing import LabelEncoder\n",
    "\n",
    "# 모든 리스트의 요소를 하나의 리스트로 펼치기\n",
    "all_values = [val for sublist in tokenized_sentences for val in sublist]\n",
    "\n",
    "# 정수 인코딩을 위해 LabelEncoder 사용\n",
    "label_encoder = LabelEncoder()\n",
    "label_encoder.fit(all_values)\n",
    "\n",
    "# 각 리스트의 요소를 정수로 변환하여 저장\n",
    "df['expected_timeline'] = tokenized_sentences.apply(lambda x: [label_encoder.transform([item])[0] for item in x])\n",
    "\n",
    "df['expected_timeline']\n"
   ]
  },
  {
   "cell_type": "code",
   "execution_count": 37,
   "id": "0d3b9890-68d2-4b1e-8508-5b00f6b74c8f",
   "metadata": {},
   "outputs": [],
   "source": [
    "############## expected_timeline 전처리_test_ver #############\n",
    "\n",
    "text_test = df['expected_timeline'].astype(str)\n",
    "tokenized_sentences_test = []\n",
    "for sentence in text_test:\n",
    "    # 문장을 단어로 토큰화\n",
    "    tokens_test = word_tokenize(sentence)\n",
    "    # 불용어 제거 & 어간 추출\n",
    "    filtered_sentence_test = [stemmer.stem(word.lower()) for word in tokens_test if word.lower() not in stop_words]\n",
    "    tokenized_sentences_test.append(filtered_sentence_test)\n",
    "\n",
    "tokenized_sentences_test = pd.Series(tokenized_sentences_test)\n",
    "df_test['expected_timeline'] = tokenized_sentences_test\n",
    "\n",
    "all_values_test = [val for sublist in tokenized_sentences_test for val in sublist]\n",
    "label_encoder.fit(all_values_test)\n",
    "df_test['expected_timeline'] = tokenized_sentences_test.apply(lambda x: [label_encoder.transform([item])[0] for item in x])\n"
   ]
  },
  {
   "cell_type": "markdown",
   "id": "af526c13",
   "metadata": {},
   "source": [
    "## 2. 데이터 전처리"
   ]
  },
  {
   "cell_type": "code",
   "execution_count": 38,
   "id": "d6a5efd5-53ab-4d61-ad3b-321257488d0a",
   "metadata": {},
   "outputs": [
    {
     "data": {
      "text/html": [
       "<div>\n",
       "<style scoped>\n",
       "    .dataframe tbody tr th:only-of-type {\n",
       "        vertical-align: middle;\n",
       "    }\n",
       "\n",
       "    .dataframe tbody tr th {\n",
       "        vertical-align: top;\n",
       "    }\n",
       "\n",
       "    .dataframe thead th {\n",
       "        text-align: right;\n",
       "    }\n",
       "</style>\n",
       "<table border=\"1\" class=\"dataframe\">\n",
       "  <thead>\n",
       "    <tr style=\"text-align: right;\">\n",
       "      <th></th>\n",
       "      <th>Variable</th>\n",
       "      <th>Median</th>\n",
       "      <th>Mean</th>\n",
       "      <th>Q1</th>\n",
       "      <th>Q2</th>\n",
       "      <th>Q3</th>\n",
       "      <th>IQR</th>\n",
       "      <th>Lower Bound</th>\n",
       "      <th>Upper Bound</th>\n",
       "      <th>Outliers Count</th>\n",
       "    </tr>\n",
       "  </thead>\n",
       "  <tbody>\n",
       "    <tr>\n",
       "      <th>0</th>\n",
       "      <td>bant_submit</td>\n",
       "      <td>0.500000</td>\n",
       "      <td>0.634593</td>\n",
       "      <td>0.500000</td>\n",
       "      <td>0.500000</td>\n",
       "      <td>1.000000</td>\n",
       "      <td>0.500000</td>\n",
       "      <td>-0.250000</td>\n",
       "      <td>1.750000</td>\n",
       "      <td>0</td>\n",
       "    </tr>\n",
       "    <tr>\n",
       "      <th>1</th>\n",
       "      <td>com_reg_ver_win_rate</td>\n",
       "      <td>0.049180</td>\n",
       "      <td>0.091685</td>\n",
       "      <td>0.019900</td>\n",
       "      <td>0.049180</td>\n",
       "      <td>0.074949</td>\n",
       "      <td>0.055048</td>\n",
       "      <td>-0.062672</td>\n",
       "      <td>0.157521</td>\n",
       "      <td>1340</td>\n",
       "    </tr>\n",
       "    <tr>\n",
       "      <th>2</th>\n",
       "      <td>customer_idx</td>\n",
       "      <td>26774.000000</td>\n",
       "      <td>27114.556333</td>\n",
       "      <td>14913.000000</td>\n",
       "      <td>26774.000000</td>\n",
       "      <td>40368.500000</td>\n",
       "      <td>25455.500000</td>\n",
       "      <td>-23270.250000</td>\n",
       "      <td>78551.750000</td>\n",
       "      <td>0</td>\n",
       "    </tr>\n",
       "    <tr>\n",
       "      <th>3</th>\n",
       "      <td>historical_existing_cnt</td>\n",
       "      <td>4.000000</td>\n",
       "      <td>19.912184</td>\n",
       "      <td>1.000000</td>\n",
       "      <td>4.000000</td>\n",
       "      <td>19.000000</td>\n",
       "      <td>18.000000</td>\n",
       "      <td>-26.000000</td>\n",
       "      <td>46.000000</td>\n",
       "      <td>1676</td>\n",
       "    </tr>\n",
       "    <tr>\n",
       "      <th>4</th>\n",
       "      <td>id_strategic_ver</td>\n",
       "      <td>1.000000</td>\n",
       "      <td>1.000000</td>\n",
       "      <td>1.000000</td>\n",
       "      <td>1.000000</td>\n",
       "      <td>1.000000</td>\n",
       "      <td>0.000000</td>\n",
       "      <td>1.000000</td>\n",
       "      <td>1.000000</td>\n",
       "      <td>0</td>\n",
       "    </tr>\n",
       "    <tr>\n",
       "      <th>5</th>\n",
       "      <td>it_strategic_ver</td>\n",
       "      <td>1.000000</td>\n",
       "      <td>1.000000</td>\n",
       "      <td>1.000000</td>\n",
       "      <td>1.000000</td>\n",
       "      <td>1.000000</td>\n",
       "      <td>0.000000</td>\n",
       "      <td>1.000000</td>\n",
       "      <td>1.000000</td>\n",
       "      <td>0</td>\n",
       "    </tr>\n",
       "    <tr>\n",
       "      <th>6</th>\n",
       "      <td>idit_strategic_ver</td>\n",
       "      <td>1.000000</td>\n",
       "      <td>1.000000</td>\n",
       "      <td>1.000000</td>\n",
       "      <td>1.000000</td>\n",
       "      <td>1.000000</td>\n",
       "      <td>0.000000</td>\n",
       "      <td>1.000000</td>\n",
       "      <td>1.000000</td>\n",
       "      <td>0</td>\n",
       "    </tr>\n",
       "    <tr>\n",
       "      <th>7</th>\n",
       "      <td>lead_desc_length</td>\n",
       "      <td>29.000000</td>\n",
       "      <td>79.271590</td>\n",
       "      <td>7.000000</td>\n",
       "      <td>29.000000</td>\n",
       "      <td>92.000000</td>\n",
       "      <td>85.000000</td>\n",
       "      <td>-120.500000</td>\n",
       "      <td>219.500000</td>\n",
       "      <td>5558</td>\n",
       "    </tr>\n",
       "    <tr>\n",
       "      <th>8</th>\n",
       "      <td>ver_cus</td>\n",
       "      <td>0.000000</td>\n",
       "      <td>0.041603</td>\n",
       "      <td>0.000000</td>\n",
       "      <td>0.000000</td>\n",
       "      <td>0.000000</td>\n",
       "      <td>0.000000</td>\n",
       "      <td>0.000000</td>\n",
       "      <td>0.000000</td>\n",
       "      <td>2467</td>\n",
       "    </tr>\n",
       "    <tr>\n",
       "      <th>9</th>\n",
       "      <td>ver_pro</td>\n",
       "      <td>0.000000</td>\n",
       "      <td>0.050810</td>\n",
       "      <td>0.000000</td>\n",
       "      <td>0.000000</td>\n",
       "      <td>0.000000</td>\n",
       "      <td>0.000000</td>\n",
       "      <td>0.000000</td>\n",
       "      <td>0.000000</td>\n",
       "      <td>3013</td>\n",
       "    </tr>\n",
       "    <tr>\n",
       "      <th>10</th>\n",
       "      <td>ver_win_rate_x</td>\n",
       "      <td>0.000572</td>\n",
       "      <td>0.001117</td>\n",
       "      <td>0.000298</td>\n",
       "      <td>0.000572</td>\n",
       "      <td>0.001183</td>\n",
       "      <td>0.000884</td>\n",
       "      <td>-0.001028</td>\n",
       "      <td>0.002509</td>\n",
       "      <td>4097</td>\n",
       "    </tr>\n",
       "    <tr>\n",
       "      <th>11</th>\n",
       "      <td>ver_win_ratio_per_bu</td>\n",
       "      <td>0.049840</td>\n",
       "      <td>0.049288</td>\n",
       "      <td>0.026846</td>\n",
       "      <td>0.049840</td>\n",
       "      <td>0.064566</td>\n",
       "      <td>0.037720</td>\n",
       "      <td>-0.029735</td>\n",
       "      <td>0.121147</td>\n",
       "      <td>409</td>\n",
       "    </tr>\n",
       "    <tr>\n",
       "      <th>12</th>\n",
       "      <td>lead_owner</td>\n",
       "      <td>175.000000</td>\n",
       "      <td>262.563888</td>\n",
       "      <td>97.000000</td>\n",
       "      <td>175.000000</td>\n",
       "      <td>374.000000</td>\n",
       "      <td>277.000000</td>\n",
       "      <td>-318.500000</td>\n",
       "      <td>789.500000</td>\n",
       "      <td>2710</td>\n",
       "    </tr>\n",
       "  </tbody>\n",
       "</table>\n",
       "</div>"
      ],
      "text/plain": [
       "                   Variable        Median          Mean            Q1  \\\n",
       "0               bant_submit      0.500000      0.634593      0.500000   \n",
       "1      com_reg_ver_win_rate      0.049180      0.091685      0.019900   \n",
       "2              customer_idx  26774.000000  27114.556333  14913.000000   \n",
       "3   historical_existing_cnt      4.000000     19.912184      1.000000   \n",
       "4          id_strategic_ver      1.000000      1.000000      1.000000   \n",
       "5          it_strategic_ver      1.000000      1.000000      1.000000   \n",
       "6        idit_strategic_ver      1.000000      1.000000      1.000000   \n",
       "7          lead_desc_length     29.000000     79.271590      7.000000   \n",
       "8                   ver_cus      0.000000      0.041603      0.000000   \n",
       "9                   ver_pro      0.000000      0.050810      0.000000   \n",
       "10           ver_win_rate_x      0.000572      0.001117      0.000298   \n",
       "11     ver_win_ratio_per_bu      0.049840      0.049288      0.026846   \n",
       "12               lead_owner    175.000000    262.563888     97.000000   \n",
       "\n",
       "              Q2            Q3           IQR   Lower Bound   Upper Bound  \\\n",
       "0       0.500000      1.000000      0.500000     -0.250000      1.750000   \n",
       "1       0.049180      0.074949      0.055048     -0.062672      0.157521   \n",
       "2   26774.000000  40368.500000  25455.500000 -23270.250000  78551.750000   \n",
       "3       4.000000     19.000000     18.000000    -26.000000     46.000000   \n",
       "4       1.000000      1.000000      0.000000      1.000000      1.000000   \n",
       "5       1.000000      1.000000      0.000000      1.000000      1.000000   \n",
       "6       1.000000      1.000000      0.000000      1.000000      1.000000   \n",
       "7      29.000000     92.000000     85.000000   -120.500000    219.500000   \n",
       "8       0.000000      0.000000      0.000000      0.000000      0.000000   \n",
       "9       0.000000      0.000000      0.000000      0.000000      0.000000   \n",
       "10      0.000572      0.001183      0.000884     -0.001028      0.002509   \n",
       "11      0.049840      0.064566      0.037720     -0.029735      0.121147   \n",
       "12    175.000000    374.000000    277.000000   -318.500000    789.500000   \n",
       "\n",
       "    Outliers Count  \n",
       "0                0  \n",
       "1             1340  \n",
       "2                0  \n",
       "3             1676  \n",
       "4                0  \n",
       "5                0  \n",
       "6                0  \n",
       "7             5558  \n",
       "8             2467  \n",
       "9             3013  \n",
       "10            4097  \n",
       "11             409  \n",
       "12            2710  "
      ]
     },
     "execution_count": 38,
     "metadata": {},
     "output_type": "execute_result"
    }
   ],
   "source": [
    "df_n = df.select_dtypes(include=[\"number\"])\n",
    "\n",
    "df_n_information = []\n",
    "\n",
    "for name in df_n:\n",
    "    dt = df[name].describe()\n",
    "    IQR = dt['75%'] - dt['25%']\n",
    "    lower_bound = dt['25%'] - 1.5 * IQR\n",
    "    upper_bound = dt['75%'] + 1.5 * IQR\n",
    "    outliers = df[(df[name] < lower_bound) | (df[name] > upper_bound)][name]\n",
    "    \n",
    "    df_n_information.append({\n",
    "        'Variable': name,\n",
    "        'Median': dt['50%'],\n",
    "        'Mean' : dt['mean'],\n",
    "        'Q1': dt['25%'],\n",
    "        'Q2': dt['50%'],\n",
    "        'Q3': dt['75%'],\n",
    "        'IQR': IQR,\n",
    "        'Lower Bound': lower_bound,\n",
    "        'Upper Bound': upper_bound,\n",
    "        'Outliers Count': outliers.count()\n",
    "    })\n",
    "\n",
    "stats = pd.DataFrame(df_n_information)\n",
    "stats"
   ]
  },
  {
   "cell_type": "markdown",
   "id": "731a56ae-daa3-438b-a210-112cc40d3073",
   "metadata": {},
   "source": [
    "## customer_country"
   ]
  },
  {
   "cell_type": "code",
   "execution_count": 39,
   "id": "a4086e93-b346-4227-8520-9c1817e80eb4",
   "metadata": {},
   "outputs": [
    {
     "name": "stdout",
     "output_type": "stream",
     "text": [
      "<class 'pandas.core.series.Series'>\n",
      "RangeIndex: 59299 entries, 0 to 59298\n",
      "Series name: customer_country\n",
      "Non-Null Count  Dtype   \n",
      "--------------  -----   \n",
      "59299 non-null  category\n",
      "dtypes: category(1)\n",
      "memory usage: 59.4 KB\n"
     ]
    }
   ],
   "source": [
    "df['customer_country'] = df['customer_country'].astype('category')\n",
    "df['customer_country'].info()"
   ]
  },
  {
   "cell_type": "code",
   "execution_count": 40,
   "id": "67856dd1",
   "metadata": {},
   "outputs": [],
   "source": [
    "# df_test['customer_country'] = df_test['customer_country'].astype('category')"
   ]
  },
  {
   "cell_type": "markdown",
   "id": "0168a504-5af0-4d44-90a8-7d6b66cd6186",
   "metadata": {},
   "source": [
    "## business_unit"
   ]
  },
  {
   "cell_type": "code",
   "execution_count": 41,
   "id": "9cedeb93-2e3a-43a0-a237-1261ad388b3e",
   "metadata": {},
   "outputs": [],
   "source": [
    "df['business_unit'] = df['business_unit'].astype('category')"
   ]
  },
  {
   "cell_type": "code",
   "execution_count": 42,
   "id": "0ab4299c",
   "metadata": {},
   "outputs": [],
   "source": [
    "# df_test['business_unit'] = df_test['business_unit'].astype('category')"
   ]
  },
  {
   "cell_type": "markdown",
   "id": "093373ad-3cdc-49de-b087-2cd36933aebe",
   "metadata": {},
   "source": [
    "## customer_idx"
   ]
  },
  {
   "cell_type": "code",
   "execution_count": 43,
   "id": "0c0621cc-3b37-4c6b-8d10-1d234854e47d",
   "metadata": {},
   "outputs": [
    {
     "name": "stdout",
     "output_type": "stream",
     "text": [
      "<class 'pandas.core.series.Series'>\n",
      "RangeIndex: 59299 entries, 0 to 59298\n",
      "Series name: customer_idx\n",
      "Non-Null Count  Dtype\n",
      "--------------  -----\n",
      "59299 non-null  int64\n",
      "dtypes: int64(1)\n",
      "memory usage: 463.4 KB\n"
     ]
    }
   ],
   "source": [
    "df['customer_idx'].info()"
   ]
  },
  {
   "cell_type": "code",
   "execution_count": 44,
   "id": "ee396b6d-021c-412a-a44e-3f768d7734ba",
   "metadata": {},
   "outputs": [
    {
     "data": {
      "text/plain": [
       "<seaborn.axisgrid.FacetGrid at 0x7fbd35434cd0>"
      ]
     },
     "execution_count": 44,
     "metadata": {},
     "output_type": "execute_result"
    },
    {
     "data": {
      "image/png": "[encoded data removed]",
      "text/plain": [
       "<Figure size 500x500 with 1 Axes>"
      ]
     },
     "metadata": {},
     "output_type": "display_data"
    }
   ],
   "source": [
    "sns.displot(df['customer_idx'], kde=True)"
   ]
  },
  {
   "cell_type": "code",
   "execution_count": 45,
   "id": "26d2992d-df7a-4738-82c9-e91c49391342",
   "metadata": {},
   "outputs": [
    {
     "data": {
      "text/plain": [
       "35112"
      ]
     },
     "execution_count": 45,
     "metadata": {},
     "output_type": "execute_result"
    }
   ],
   "source": [
    "unique_customer_idx = df['customer_idx'].nunique()\n",
    "unique_customer_idx"
   ]
  },
  {
   "cell_type": "code",
   "execution_count": 46,
   "id": "9b063989-9077-44f6-a090-937c0da6d25c",
   "metadata": {},
   "outputs": [
    {
     "data": {
      "text/plain": [
       "CategoricalDtype(categories=[    2,     3,     5,     7,     8,    10,    12,    13,\n",
       "                     14,    15,\n",
       "                  ...\n",
       "                  47454, 47455, 47456, 47457, 47458, 47459, 47460, 47464,\n",
       "                  47465, 47466],\n",
       ", ordered=False, categories_dtype=int64)"
      ]
     },
     "execution_count": 46,
     "metadata": {},
     "output_type": "execute_result"
    }
   ],
   "source": [
    "df['customer_idx'] = df['customer_idx'].astype('category')\n",
    "df['customer_idx'].dtype"
   ]
  },
  {
   "cell_type": "code",
   "execution_count": 47,
   "id": "e3b8d85d",
   "metadata": {},
   "outputs": [],
   "source": [
    "# df_test['customer_idx'] = df_test['customer_idx'].astype('category')\n",
    "# df_test['customer_idx'].dtype"
   ]
  },
  {
   "cell_type": "markdown",
   "id": "4b0d3534-7209-4694-b077-2d8a52c542f1",
   "metadata": {},
   "source": [
    "## customer_type"
   ]
  },
  {
   "cell_type": "code",
   "execution_count": 48,
   "id": "074ce0c5-92ce-45e3-8140-be547de2faf3",
   "metadata": {},
   "outputs": [
    {
     "name": "stdout",
     "output_type": "stream",
     "text": [
      "<class 'pandas.core.series.Series'>\n",
      "RangeIndex: 59299 entries, 0 to 59298\n",
      "Series name: customer_type\n",
      "Non-Null Count  Dtype \n",
      "--------------  ----- \n",
      "16448 non-null  object\n",
      "dtypes: object(1)\n",
      "memory usage: 463.4+ KB\n"
     ]
    }
   ],
   "source": [
    "df['customer_type'].info()"
   ]
  },
  {
   "cell_type": "code",
   "execution_count": 49,
   "id": "dddd8da3-bb59-449c-8063-b6b20c1dcb5c",
   "metadata": {},
   "outputs": [
    {
     "data": {
      "text/plain": [
       "<seaborn.axisgrid.FacetGrid at 0x7fbd31a22fe0>"
      ]
     },
     "execution_count": 49,
     "metadata": {},
     "output_type": "execute_result"
    },
    {
     "data": {
      "image/png": "[encoded data removed]",
      "text/plain": [
       "<Figure size 500x500 with 1 Axes>"
      ]
     },
     "metadata": {},
     "output_type": "display_data"
    }
   ],
   "source": [
    "sns.displot(df['customer_type'], kde=True)"
   ]
  },
  {
   "cell_type": "code",
   "execution_count": 50,
   "id": "14c0958a",
   "metadata": {},
   "outputs": [
    {
     "data": {
      "text/plain": [
       "\"\\n# 비슷한 범주 통합\\ndf['customer_type'] = df['customer_type'].str.replace('/', '').str.replace('-', '').str.lower().str.strip()\\ndf['customer_type'] = df['customer_type'].replace({\\n    'specifier influencer': 'specifier/influencer',\\n    'solution ecopartner': 'solution eco-partner',\\n    'dealerdistributor': 'dealer/distributor',\\n    'software solution provider': 'software/solution provider',\\n    'homeowner': 'home owner',\\n    'installercontractor': 'installer/contractor',\\n    'manager director': 'manager/director',\\n    'architectconsultant': 'architect/consultant',\\n    'hvac engineer': 'hvac engineer',\\n    'interior designer': 'interior designer',\\n    'technical assistant': 'technical assistant',\\n    'administrator': 'administrator'\\n})\\nprint(df['customer_type'].unique())\\n\""
      ]
     },
     "execution_count": 50,
     "metadata": {},
     "output_type": "execute_result"
    }
   ],
   "source": [
    "\"\"\"\n",
    "# 비슷한 범주 통합\n",
    "df['customer_type'] = df['customer_type'].str.replace('/', '').str.replace('-', '').str.lower().str.strip()\n",
    "df['customer_type'] = df['customer_type'].replace({\n",
    "    'specifier influencer': 'specifier/influencer',\n",
    "    'solution ecopartner': 'solution eco-partner',\n",
    "    'dealerdistributor': 'dealer/distributor',\n",
    "    'software solution provider': 'software/solution provider',\n",
    "    'homeowner': 'home owner',\n",
    "    'installercontractor': 'installer/contractor',\n",
    "    'manager director': 'manager/director',\n",
    "    'architectconsultant': 'architect/consultant',\n",
    "    'hvac engineer': 'hvac engineer',\n",
    "    'interior designer': 'interior designer',\n",
    "    'technical assistant': 'technical assistant',\n",
    "    'administrator': 'administrator'\n",
    "})\n",
    "print(df['customer_type'].unique())\n",
    "\"\"\""
   ]
  },
  {
   "cell_type": "code",
   "execution_count": 51,
   "id": "1caede47",
   "metadata": {},
   "outputs": [
    {
     "name": "stdout",
     "output_type": "stream",
     "text": [
      "<class 'pandas.core.frame.DataFrame'>\n",
      "RangeIndex: 59299 entries, 0 to 59298\n",
      "Data columns (total 25 columns):\n",
      " #   Column                   Non-Null Count  Dtype   \n",
      "---  ------                   --------------  -----   \n",
      " 0   bant_submit              59299 non-null  float64 \n",
      " 1   customer_country         59299 non-null  category\n",
      " 2   business_unit            59299 non-null  category\n",
      " 3   com_reg_ver_win_rate     14568 non-null  float64 \n",
      " 4   customer_idx             59299 non-null  category\n",
      " 5   customer_type            59299 non-null  object  \n",
      " 6   enterprise               59299 non-null  object  \n",
      " 7   historical_existing_cnt  13756 non-null  float64 \n",
      " 8   id_strategic_ver         3444 non-null   float64 \n",
      " 9   it_strategic_ver         1121 non-null   float64 \n",
      " 10  idit_strategic_ver       4565 non-null   float64 \n",
      " 11  customer_job             40566 non-null  object  \n",
      " 12  lead_desc_length         59299 non-null  int64   \n",
      " 13  inquiry_type             58358 non-null  object  \n",
      " 14  product_category         59299 non-null  object  \n",
      " 15  customer_position        59299 non-null  object  \n",
      " 16  response_corporate       59299 non-null  object  \n",
      " 17  expected_timeline        59299 non-null  object  \n",
      " 18  ver_cus                  59299 non-null  int64   \n",
      " 19  ver_pro                  59299 non-null  int64   \n",
      " 20  ver_win_rate_x           18417 non-null  float64 \n",
      " 21  ver_win_ratio_per_bu     15304 non-null  float64 \n",
      " 22  business_area            18417 non-null  object  \n",
      " 23  lead_owner               59299 non-null  int64   \n",
      " 24  is_converted             59299 non-null  bool    \n",
      "dtypes: bool(1), category(3), float64(8), int64(4), object(9)\n",
      "memory usage: 11.2+ MB\n"
     ]
    }
   ],
   "source": [
    "# 결측치 처리\n",
    "df['customer_type'].fillna('unknown', inplace=True)\n",
    "df.info()"
   ]
  },
  {
   "cell_type": "code",
   "execution_count": 52,
   "id": "989961d0",
   "metadata": {},
   "outputs": [],
   "source": [
    "# df['customer_type'] = df['customer_type'].astype('category')"
   ]
  },
  {
   "cell_type": "code",
   "execution_count": 53,
   "id": "dc4eee8f",
   "metadata": {},
   "outputs": [],
   "source": [
    "\"\"\"\n",
    "df_test['customer_type'] = df_test['customer_type'].str.replace('/', '').str.replace('-', '').str.lower().str.strip()\n",
    "df_test['customer_type'] = df_test['customer_type'].replace({\n",
    "    'specifier influencer': 'specifier/influencer',\n",
    "    'solution ecopartner': 'solution eco-partner',\n",
    "    'dealerdistributor': 'dealer/distributor',\n",
    "    'software solution provider': 'software/solution provider',\n",
    "    'homeowner': 'home owner',\n",
    "    'installercontractor': 'installer/contractor',\n",
    "    'manager director': 'manager/director',\n",
    "    'architectconsultant': 'architect/consultant',\n",
    "    'hvac engineer': 'hvac engineer',\n",
    "    'interior designer': 'interior designer',\n",
    "    'technical assistant': 'technical assistant',\n",
    "    'administrator': 'administrator'\n",
    "})\n",
    "\"\"\"\n",
    "df_test['customer_type'].fillna('unknown', inplace=True)\n",
    "# df_test['customer_type'] = df_test['customer_type'].astype('category')"
   ]
  },
  {
   "cell_type": "markdown",
   "id": "22b85b01",
   "metadata": {},
   "source": [
    "## enterprise"
   ]
  },
  {
   "cell_type": "code",
   "execution_count": 54,
   "id": "7c027753",
   "metadata": {},
   "outputs": [],
   "source": [
    "df['enterprise'] = df['enterprise'].astype('category')"
   ]
  },
  {
   "cell_type": "code",
   "execution_count": 55,
   "id": "b64f458d",
   "metadata": {},
   "outputs": [],
   "source": [
    "# df_test['enterprise'] = df_test['enterprise'].astype('category')"
   ]
  },
  {
   "cell_type": "markdown",
   "id": "bd6cee46-110c-43b8-89bc-dbb666bc975d",
   "metadata": {},
   "source": [
    "## historical_existing_cnt"
   ]
  },
  {
   "cell_type": "code",
   "execution_count": 56,
   "id": "64616a5e",
   "metadata": {},
   "outputs": [],
   "source": [
    "df['historical_existing_cnt'].fillna(0, inplace=True)"
   ]
  },
  {
   "cell_type": "code",
   "execution_count": 57,
   "id": "f04fd38f",
   "metadata": {},
   "outputs": [
    {
     "name": "stdout",
     "output_type": "stream",
     "text": [
      "<class 'pandas.core.series.Series'>\n",
      "RangeIndex: 59299 entries, 0 to 59298\n",
      "Series name: historical_existing_cnt\n",
      "Non-Null Count  Dtype  \n",
      "--------------  -----  \n",
      "59299 non-null  float64\n",
      "dtypes: float64(1)\n",
      "memory usage: 463.4 KB\n"
     ]
    }
   ],
   "source": [
    "df['historical_existing_cnt'].info()"
   ]
  },
  {
   "cell_type": "code",
   "execution_count": 58,
   "id": "8d465c8f",
   "metadata": {},
   "outputs": [
    {
     "data": {
      "text/plain": [
       "{'Variable': 'historical_existing_cnt',\n",
       " 'Median': 4.0,\n",
       " 'Mean': 19.91218377435301,\n",
       " 'Q1': 1.0,\n",
       " 'Q2': 4.0,\n",
       " 'Q3': 19.0,\n",
       " 'IQR': 18.0,\n",
       " 'Lower Bound': -26.0,\n",
       " 'Upper Bound': 46.0,\n",
       " 'Outliers Count': 1676}"
      ]
     },
     "execution_count": 58,
     "metadata": {},
     "output_type": "execute_result"
    }
   ],
   "source": [
    "df_n_information[3]"
   ]
  },
  {
   "cell_type": "code",
   "execution_count": 59,
   "id": "59b905a3",
   "metadata": {},
   "outputs": [
    {
     "data": {
      "text/plain": [
       "<Axes: ylabel='historical_existing_cnt'>"
      ]
     },
     "execution_count": 59,
     "metadata": {},
     "output_type": "execute_result"
    },
    {
     "data": {
      "image/png": "[encoded data removed]",
      "text/plain": [
       "<Figure size 640x480 with 1 Axes>"
      ]
     },
     "metadata": {},
     "output_type": "display_data"
    }
   ],
   "source": [
    "sns.boxplot(df['historical_existing_cnt'])"
   ]
  },
  {
   "cell_type": "code",
   "execution_count": 60,
   "id": "d00b8492",
   "metadata": {},
   "outputs": [
    {
     "data": {
      "image/png": "[encoded data removed]",
      "text/plain": [
       "<Figure size 1000x600 with 1 Axes>"
      ]
     },
     "metadata": {},
     "output_type": "display_data"
    }
   ],
   "source": [
    "plt.figure(figsize=(10, 6))\n",
    "sns.histplot(df['historical_existing_cnt'], bins=100, kde=True)\n",
    "plt.show()"
   ]
  },
  {
   "cell_type": "code",
   "execution_count": 61,
   "id": "f7f86757",
   "metadata": {},
   "outputs": [
    {
     "data": {
      "text/html": [
       "<div>\n",
       "<style scoped>\n",
       "    .dataframe tbody tr th:only-of-type {\n",
       "        vertical-align: middle;\n",
       "    }\n",
       "\n",
       "    .dataframe tbody tr th {\n",
       "        vertical-align: top;\n",
       "    }\n",
       "\n",
       "    .dataframe thead th {\n",
       "        text-align: right;\n",
       "    }\n",
       "</style>\n",
       "<table border=\"1\" class=\"dataframe\">\n",
       "  <thead>\n",
       "    <tr style=\"text-align: right;\">\n",
       "      <th></th>\n",
       "      <th>historical_existing_cnt</th>\n",
       "      <th>historical_existing_cnt_log</th>\n",
       "    </tr>\n",
       "  </thead>\n",
       "  <tbody>\n",
       "    <tr>\n",
       "      <th>count</th>\n",
       "      <td>59299.000000</td>\n",
       "      <td>59299.000000</td>\n",
       "    </tr>\n",
       "    <tr>\n",
       "      <th>mean</th>\n",
       "      <td>2.729844</td>\n",
       "      <td>0.425454</td>\n",
       "    </tr>\n",
       "    <tr>\n",
       "      <th>std</th>\n",
       "      <td>8.766214</td>\n",
       "      <td>0.977716</td>\n",
       "    </tr>\n",
       "    <tr>\n",
       "      <th>min</th>\n",
       "      <td>0.000000</td>\n",
       "      <td>0.000000</td>\n",
       "    </tr>\n",
       "    <tr>\n",
       "      <th>25%</th>\n",
       "      <td>0.000000</td>\n",
       "      <td>0.000000</td>\n",
       "    </tr>\n",
       "    <tr>\n",
       "      <th>50%</th>\n",
       "      <td>0.000000</td>\n",
       "      <td>0.000000</td>\n",
       "    </tr>\n",
       "    <tr>\n",
       "      <th>75%</th>\n",
       "      <td>0.000000</td>\n",
       "      <td>0.000000</td>\n",
       "    </tr>\n",
       "    <tr>\n",
       "      <th>max</th>\n",
       "      <td>46.000000</td>\n",
       "      <td>3.850148</td>\n",
       "    </tr>\n",
       "  </tbody>\n",
       "</table>\n",
       "</div>"
      ],
      "text/plain": [
       "       historical_existing_cnt  historical_existing_cnt_log\n",
       "count             59299.000000                 59299.000000\n",
       "mean                  2.729844                     0.425454\n",
       "std                   8.766214                     0.977716\n",
       "min                   0.000000                     0.000000\n",
       "25%                   0.000000                     0.000000\n",
       "50%                   0.000000                     0.000000\n",
       "75%                   0.000000                     0.000000\n",
       "max                  46.000000                     3.850148"
      ]
     },
     "execution_count": 61,
     "metadata": {},
     "output_type": "execute_result"
    }
   ],
   "source": [
    "# 이상치 처리\n",
    "upper_bound = 46\n",
    "df['historical_existing_cnt'] = df['historical_existing_cnt'].apply(lambda x: min(x, upper_bound))\n",
    "\n",
    "# 로그 변환\n",
    "df['historical_existing_cnt_log'] = np.log1p(df['historical_existing_cnt'])\n",
    "\n",
    "df[['historical_existing_cnt', 'historical_existing_cnt_log']].describe()\n",
    "# 로그 변환 피처와 원본 피처 모두 유지"
   ]
  },
  {
   "cell_type": "code",
   "execution_count": 62,
   "id": "8fb14f08",
   "metadata": {},
   "outputs": [],
   "source": [
    "df_test['historical_existing_cnt'].fillna(0, inplace=True)\n",
    "df_test['historical_existing_cnt'] = df_test['historical_existing_cnt'].apply(lambda x: min(x, upper_bound))\n",
    "df_test['historical_existing_cnt_log'] = np.log1p(df_test['historical_existing_cnt'])"
   ]
  },
  {
   "cell_type": "markdown",
   "id": "6ff139f3-7853-44d6-88dc-858f48f02c06",
   "metadata": {},
   "source": [
    "## customer_job"
   ]
  },
  {
   "cell_type": "code",
   "execution_count": 63,
   "id": "4fcb3f3f-6a25-4b3d-bf8e-1029bf8a7521",
   "metadata": {},
   "outputs": [
    {
     "name": "stdout",
     "output_type": "stream",
     "text": [
      "<class 'pandas.core.series.Series'>\n",
      "RangeIndex: 59299 entries, 0 to 59298\n",
      "Series name: customer_job\n",
      "Non-Null Count  Dtype \n",
      "--------------  ----- \n",
      "40566 non-null  object\n",
      "dtypes: object(1)\n",
      "memory usage: 463.4+ KB\n"
     ]
    }
   ],
   "source": [
    "df['customer_job'].info()"
   ]
  },
  {
   "cell_type": "code",
   "execution_count": 64,
   "id": "eda2fa13",
   "metadata": {},
   "outputs": [
    {
     "name": "stdout",
     "output_type": "stream",
     "text": [
      "560\n"
     ]
    }
   ],
   "source": [
    "print(df['customer_job'].nunique())"
   ]
  },
  {
   "cell_type": "code",
   "execution_count": 65,
   "id": "da8e2cdf-e827-49d6-8f04-ba62c6b17c9f",
   "metadata": {},
   "outputs": [
    {
     "data": {
      "text/plain": [
       "<Axes: xlabel='count', ylabel='customer_job'>"
      ]
     },
     "execution_count": 65,
     "metadata": {},
     "output_type": "execute_result"
    },
    {
     "data": {
      "image/png": "[encoded data removed]",
      "text/plain": [
       "<Figure size 640x480 with 1 Axes>"
      ]
     },
     "metadata": {},
     "output_type": "display_data"
    }
   ],
   "source": [
    "sns.countplot(y='customer_job', data=df, order=df['customer_job'].value_counts().index)"
   ]
  },
  {
   "cell_type": "code",
   "execution_count": 66,
   "id": "bf5e0ce6",
   "metadata": {},
   "outputs": [
    {
     "data": {
      "text/plain": [
       "526"
      ]
     },
     "execution_count": 66,
     "metadata": {},
     "output_type": "execute_result"
    }
   ],
   "source": [
    "((df['customer_job'].value_counts()) <= 100).sum()"
   ]
  },
  {
   "cell_type": "code",
   "execution_count": 67,
   "id": "15e27954",
   "metadata": {},
   "outputs": [],
   "source": [
    "top_categories = df['customer_job'].value_counts().index[:15]\n",
    "df['customer_job_reduced'] = df['customer_job'].apply(lambda x: x if x in top_categories else 'Other')"
   ]
  },
  {
   "cell_type": "code",
   "execution_count": 68,
   "id": "b3ce7b83",
   "metadata": {},
   "outputs": [],
   "source": [
    "df['customer_job'].fillna('other', inplace=True)\n",
    "df['customer_job'] = df['customer_job'].astype('category')\n",
    "df['customer_job_reduced'] = df['customer_job_reduced'].astype('category')"
   ]
  },
  {
   "cell_type": "code",
   "execution_count": 69,
   "id": "575ccd69",
   "metadata": {},
   "outputs": [],
   "source": [
    "\n",
    "top_categories_test = df_test['customer_job'].value_counts().index[:15]\n",
    "df_test['customer_job_reduced'] = df_test['customer_job'].apply(lambda x: x if x in top_categories_test else 'Other')\n",
    "df_test['customer_job'].fillna('other', inplace=True)\n",
    "df_test['customer_job'] = df_test['customer_job'].astype('category')\n",
    "df_test['customer_job_reduced'] = df_test['customer_job_reduced'].astype('category')\n"
   ]
  },
  {
   "cell_type": "markdown",
   "id": "6ab7d9f8-d8b2-41f4-b4ad-87b4f3567416",
   "metadata": {},
   "source": [
    "## lead_desc_length"
   ]
  },
  {
   "cell_type": "code",
   "execution_count": 70,
   "id": "29f59e6e-af20-4066-8b48-77527afc8d94",
   "metadata": {},
   "outputs": [
    {
     "name": "stdout",
     "output_type": "stream",
     "text": [
      "<class 'pandas.core.series.Series'>\n",
      "RangeIndex: 59299 entries, 0 to 59298\n",
      "Series name: lead_desc_length\n",
      "Non-Null Count  Dtype\n",
      "--------------  -----\n",
      "59299 non-null  int64\n",
      "dtypes: int64(1)\n",
      "memory usage: 463.4 KB\n"
     ]
    }
   ],
   "source": [
    "df['lead_desc_length'].info()"
   ]
  },
  {
   "cell_type": "code",
   "execution_count": 71,
   "id": "11564217-e865-4a4f-a620-5a687c9306ed",
   "metadata": {},
   "outputs": [
    {
     "data": {
      "text/plain": [
       "<seaborn.axisgrid.FacetGrid at 0x7fbd31491960>"
      ]
     },
     "execution_count": 71,
     "metadata": {},
     "output_type": "execute_result"
    },
    {
     "data": {
      "image/png": "[encoded data removed]",
      "text/plain": [
       "<Figure size 500x500 with 1 Axes>"
      ]
     },
     "metadata": {},
     "output_type": "display_data"
    }
   ],
   "source": [
    "sns.displot(df['lead_desc_length'], kde=True)"
   ]
  },
  {
   "cell_type": "code",
   "execution_count": 72,
   "id": "fc906a90",
   "metadata": {},
   "outputs": [],
   "source": [
    "# 로그변환, 스케일링\n",
    "df['lead_desc_length'] = df['lead_desc_length'].apply(lambda x: np.log(x + 1))\n",
    "scaler = MinMaxScaler()\n",
    "df['lead_desc_length'] = scaler.fit_transform(df[['lead_desc_length']])"
   ]
  },
  {
   "cell_type": "code",
   "execution_count": 73,
   "id": "4d5ac145",
   "metadata": {},
   "outputs": [],
   "source": [
    "# df_test['lead_desc_length'] = df_test['lead_desc_length'].apply(lambda x: np.log(x + 1))\n",
    "# df_test['lead_desc_length'] = scaler.fit_transform(df_test[['lead_desc_length']])"
   ]
  },
  {
   "cell_type": "markdown",
   "id": "342c4d79-49d0-420d-939d-846178503f0a",
   "metadata": {},
   "source": [
    "## inquiry_type"
   ]
  },
  {
   "cell_type": "code",
   "execution_count": 74,
   "id": "57d2067e",
   "metadata": {},
   "outputs": [
    {
     "name": "stdout",
     "output_type": "stream",
     "text": [
      "<class 'pandas.core.series.Series'>\n",
      "RangeIndex: 59299 entries, 0 to 59298\n",
      "Series name: inquiry_type\n",
      "Non-Null Count  Dtype \n",
      "--------------  ----- \n",
      "58358 non-null  object\n",
      "dtypes: object(1)\n",
      "memory usage: 463.4+ KB\n"
     ]
    }
   ],
   "source": [
    "df['inquiry_type'].info()"
   ]
  },
  {
   "cell_type": "code",
   "execution_count": 75,
   "id": "bd768851",
   "metadata": {},
   "outputs": [],
   "source": [
    "df['inquiry_type'].fillna('other', inplace=True)"
   ]
  },
  {
   "cell_type": "code",
   "execution_count": 76,
   "id": "58829bf0",
   "metadata": {},
   "outputs": [
    {
     "data": {
      "text/plain": [
       "<Axes: xlabel='count', ylabel='inquiry_type'>"
      ]
     },
     "execution_count": 76,
     "metadata": {},
     "output_type": "execute_result"
    },
    {
     "data": {
      "image/png": "[encoded data removed]",
      "text/plain": [
       "<Figure size 2000x2500 with 1 Axes>"
      ]
     },
     "metadata": {},
     "output_type": "display_data"
    }
   ],
   "source": [
    "plt.figure(figsize=(20, 25))\n",
    "plt.subplot(1, 3, 2)\n",
    "sns.countplot(data = df, y = 'inquiry_type')"
   ]
  },
  {
   "cell_type": "code",
   "execution_count": 77,
   "id": "f8c56719",
   "metadata": {},
   "outputs": [],
   "source": [
    "# 소문자\n",
    "df['inquiry_type'] = df['inquiry_type'].str.lower()\n",
    "\n",
    "# 빈도 적은 카테고리 'other'로 치환 (평균보다)\n",
    "threshold = df['inquiry_type'].value_counts().mean()\n",
    "value_counts = df['inquiry_type'].value_counts()\n",
    "to_replace = value_counts[value_counts <= threshold].index\n",
    "df['inquiry_type'] = df['inquiry_type'].replace(to_replace, 'other')\n"
   ]
  },
  {
   "cell_type": "code",
   "execution_count": 78,
   "id": "85f776b1",
   "metadata": {},
   "outputs": [],
   "source": [
    "df['inquiry_type'] = df['inquiry_type'].astype('category')"
   ]
  },
  {
   "cell_type": "code",
   "execution_count": 80,
   "id": "baa28705",
   "metadata": {},
   "outputs": [],
   "source": [
    "\n",
    "df_test['inquiry_type'].fillna('other', inplace=True)\n",
    "df_test['inquiry_type'] = df_test['inquiry_type'].str.lower()\n",
    "threshold = df_test['inquiry_type'].value_counts().mean()\n",
    "value_counts = df_test['inquiry_type'].value_counts()\n",
    "to_replace = value_counts[value_counts <= threshold].index\n",
    "df_test['inquiry_type'] = df_test['inquiry_type'].replace(to_replace, 'other')\n",
    "# df_test['inquiry_type'] = df_test['inquiry_type'].astype('category')\n"
   ]
  },
  {
   "cell_type": "markdown",
   "id": "27111e39-1f78-46e1-a2ec-49dce7217245",
   "metadata": {},
   "source": [
    "## product_category"
   ]
  },
  {
   "cell_type": "code",
   "execution_count": 81,
   "id": "c16b480c",
   "metadata": {},
   "outputs": [],
   "source": [
    "df['product_category'] = df['product_category'].astype('category')"
   ]
  },
  {
   "cell_type": "markdown",
   "id": "7530e24a-dcf7-4d80-af6c-73a958360cd8",
   "metadata": {},
   "source": [
    "## customer_position"
   ]
  },
  {
   "cell_type": "code",
   "execution_count": 83,
   "id": "a15fe8c3",
   "metadata": {},
   "outputs": [],
   "source": [
    "df['customer_position'] = df['customer_position'].astype('category')"
   ]
  },
  {
   "cell_type": "markdown",
   "id": "80289b97-45b1-472b-b0d5-6e7abb97637b",
   "metadata": {},
   "source": [
    "## response_corporate"
   ]
  },
  {
   "cell_type": "code",
   "execution_count": 85,
   "id": "76cd326f",
   "metadata": {},
   "outputs": [],
   "source": [
    "df['response_corporate'] = df['response_corporate'].astype('category')"
   ]
  },
  {
   "cell_type": "markdown",
   "id": "5272545e-ffd3-40e1-9d2e-1eceee1e2ce6",
   "metadata": {},
   "source": [
    "## business_area"
   ]
  },
  {
   "cell_type": "code",
   "execution_count": 87,
   "id": "2a593e6b",
   "metadata": {},
   "outputs": [],
   "source": [
    "df['business_area'].fillna('unknown', inplace=True)\n",
    "df['business_area'] = df['business_area'].astype('category')"
   ]
  },
  {
   "cell_type": "code",
   "execution_count": 88,
   "id": "60362ad1",
   "metadata": {},
   "outputs": [],
   "source": [
    "df_test['business_area'].fillna('unknown', inplace=True)"
   ]
  },
  {
   "cell_type": "markdown",
   "id": "67211239-86e2-402f-8e53-fbf4f4112d2f",
   "metadata": {},
   "source": [
    "## lead_owner"
   ]
  },
  {
   "cell_type": "code",
   "execution_count": 89,
   "id": "c77c2266-c713-4f39-b11f-0ed0e4e7563b",
   "metadata": {},
   "outputs": [],
   "source": [
    "df['lead_owner'] = df['lead_owner'].astype('category')"
   ]
  },
  {
   "cell_type": "markdown",
   "id": "4bd47e00",
   "metadata": {},
   "source": [
    "### 레이블 인코딩"
   ]
  },
  {
   "cell_type": "code",
   "execution_count": 91,
   "id": "0b42b1a1",
   "metadata": {},
   "outputs": [],
   "source": [
    "def label_encoding(series: pd.Series) -> pd.Series:\n",
    "    \"\"\"범주형 데이터를 시리즈 형태로 받아 숫자형 데이터로 변환합니다.\"\"\"\n",
    "\n",
    "    my_dict = {}\n",
    "\n",
    "    # 모든 요소를 문자열로 변환\n",
    "    series = series.astype(str)\n",
    "\n",
    "    for idx, value in enumerate(sorted(series.unique())):\n",
    "        my_dict[value] = idx\n",
    "    series = series.map(my_dict)\n",
    "\n",
    "    return series"
   ]
  },
  {
   "cell_type": "code",
   "execution_count": 92,
   "id": "881a4612",
   "metadata": {},
   "outputs": [],
   "source": [
    "# 레이블 인코딩할 칼럼들\n",
    "label_columns = [\n",
    "#    \"customer_country\",\n",
    "#    \"business_area\",\n",
    "#    \"business_unit\",\n",
    "#    \"customer_type\",\n",
    "#    \"enterprise\",\n",
    "#    \"customer_job\",\n",
    "#    \"inquiry_type\",\n",
    "#    \"product_category\",\n",
    "#    \"customer_position\",\n",
    "#    \"response_corporate\",\n",
    "    \"expected_timeline\"\n",
    "]\n",
    "\n",
    "df_all = pd.concat([df[label_columns], df_test[label_columns]])\n",
    "\n",
    "for col in label_columns:\n",
    "    df_all[col] = label_encoding(df_all[col])"
   ]
  },
  {
   "cell_type": "markdown",
   "id": "3a477f93",
   "metadata": {},
   "source": [
    "다시 학습 데이터와 제출 데이터를 분리합니다."
   ]
  },
  {
   "cell_type": "code",
   "execution_count": 93,
   "id": "ff10c5fb",
   "metadata": {},
   "outputs": [],
   "source": [
    "for col in label_columns:  \n",
    "    df[col] = df_all.iloc[: len(df)][col]\n",
    "    df_test[col] = df_all.iloc[len(df) :][col]"
   ]
  },
  {
   "cell_type": "code",
   "execution_count": 94,
   "id": "f1775ed4-7c1d-4463-9a8f-c8ec44643dfc",
   "metadata": {},
   "outputs": [
    {
     "name": "stdout",
     "output_type": "stream",
     "text": [
      "<class 'pandas.core.frame.DataFrame'>\n",
      "RangeIndex: 59299 entries, 0 to 59298\n",
      "Data columns (total 27 columns):\n",
      " #   Column                       Non-Null Count  Dtype   \n",
      "---  ------                       --------------  -----   \n",
      " 0   bant_submit                  59299 non-null  float64 \n",
      " 1   customer_country             59299 non-null  category\n",
      " 2   business_unit                59299 non-null  category\n",
      " 3   com_reg_ver_win_rate         14568 non-null  float64 \n",
      " 4   customer_idx                 59299 non-null  category\n",
      " 5   customer_type                59299 non-null  object  \n",
      " 6   enterprise                   59299 non-null  category\n",
      " 7   historical_existing_cnt      59299 non-null  float64 \n",
      " 8   id_strategic_ver             3444 non-null   float64 \n",
      " 9   it_strategic_ver             1121 non-null   float64 \n",
      " 10  idit_strategic_ver           4565 non-null   float64 \n",
      " 11  customer_job                 59299 non-null  category\n",
      " 12  lead_desc_length             59299 non-null  float64 \n",
      " 13  inquiry_type                 59299 non-null  category\n",
      " 14  product_category             59299 non-null  category\n",
      " 15  customer_position            59299 non-null  category\n",
      " 16  response_corporate           59299 non-null  category\n",
      " 17  expected_timeline            59299 non-null  int64   \n",
      " 18  ver_cus                      59299 non-null  int64   \n",
      " 19  ver_pro                      59299 non-null  int64   \n",
      " 20  ver_win_rate_x               18417 non-null  float64 \n",
      " 21  ver_win_ratio_per_bu         15304 non-null  float64 \n",
      " 22  business_area                59299 non-null  category\n",
      " 23  lead_owner                   59299 non-null  category\n",
      " 24  is_converted                 59299 non-null  bool    \n",
      " 25  historical_existing_cnt_log  59299 non-null  float64 \n",
      " 26  customer_job_reduced         59299 non-null  category\n",
      "dtypes: bool(1), category(12), float64(10), int64(3), object(1)\n",
      "memory usage: 8.7+ MB\n"
     ]
    }
   ],
   "source": [
    "df.info()"
   ]
  },
  {
   "cell_type": "markdown",
   "id": "d332358a",
   "metadata": {},
   "source": [
    "### 2-2. 학습, 검증 데이터 분리"
   ]
  },
  {
   "cell_type": "code",
   "execution_count": 95,
   "id": "27c9e205",
   "metadata": {},
   "outputs": [],
   "source": [
    "x_train, x_val, y_train, y_val = train_test_split(\n",
    "    df.drop([\"is_converted\", \"id_strategic_ver\", \"it_strategic_ver\", \"idit_strategic_ver\", \"ver_cus\", \"ver_pro\"], axis=1),\n",
    "    df[\"is_converted\"],\n",
    "    test_size=0.2,\n",
    "    shuffle=True,\n",
    "    random_state=400,\n",
    ")"
   ]
  },
  {
   "cell_type": "code",
   "execution_count": 96,
   "id": "adc7c1ae-b4f5-42b7-86ce-5a0fbffbdbd6",
   "metadata": {},
   "outputs": [
    {
     "name": "stdout",
     "output_type": "stream",
     "text": [
      "<class 'pandas.core.frame.DataFrame'>\n",
      "Index: 47439 entries, 43573 to 53596\n",
      "Data columns (total 21 columns):\n",
      " #   Column                       Non-Null Count  Dtype   \n",
      "---  ------                       --------------  -----   \n",
      " 0   bant_submit                  47439 non-null  float64 \n",
      " 1   customer_country             47439 non-null  category\n",
      " 2   business_unit                47439 non-null  category\n",
      " 3   com_reg_ver_win_rate         11616 non-null  float64 \n",
      " 4   customer_idx                 47439 non-null  category\n",
      " 5   customer_type                47439 non-null  object  \n",
      " 6   enterprise                   47439 non-null  category\n",
      " 7   historical_existing_cnt      47439 non-null  float64 \n",
      " 8   customer_job                 47439 non-null  category\n",
      " 9   lead_desc_length             47439 non-null  float64 \n",
      " 10  inquiry_type                 47439 non-null  category\n",
      " 11  product_category             47439 non-null  category\n",
      " 12  customer_position            47439 non-null  category\n",
      " 13  response_corporate           47439 non-null  category\n",
      " 14  expected_timeline            47439 non-null  int64   \n",
      " 15  ver_win_rate_x               14732 non-null  float64 \n",
      " 16  ver_win_ratio_per_bu         12232 non-null  float64 \n",
      " 17  business_area                47439 non-null  category\n",
      " 18  lead_owner                   47439 non-null  category\n",
      " 19  historical_existing_cnt_log  47439 non-null  float64 \n",
      " 20  customer_job_reduced         47439 non-null  category\n",
      "dtypes: category(12), float64(7), int64(1), object(1)\n",
      "memory usage: 5.7+ MB\n"
     ]
    }
   ],
   "source": [
    "x_train.info()"
   ]
  },
  {
   "cell_type": "markdown",
   "id": "79ecfa9b",
   "metadata": {},
   "source": [
    "## 3. 모델 학습"
   ]
  },
  {
   "cell_type": "markdown",
   "id": "518989e5-9046-4410-b8bb-a924ac3145e1",
   "metadata": {},
   "source": [
    "### 가중치"
   ]
  },
  {
   "cell_type": "code",
   "execution_count": 97,
   "id": "e9135402-a505-4ef1-9e4d-2207a20c7b88",
   "metadata": {},
   "outputs": [
    {
     "data": {
      "text/plain": [
       "43573    0.0\n",
       "25857    2.0\n",
       "42264    0.0\n",
       "7665     0.0\n",
       "23088    0.0\n",
       "        ... \n",
       "140      0.0\n",
       "46009    0.0\n",
       "2366     0.0\n",
       "3535     0.0\n",
       "53596    0.0\n",
       "Length: 47439, dtype: float64"
      ]
     },
     "execution_count": 97,
     "metadata": {},
     "output_type": "execute_result"
    }
   ],
   "source": [
    "df['idit_strategic_ver'].fillna(0, inplace=True)\n",
    "\n",
    "df['ver_pro'] = df['ver_pro'].apply(lambda x: 1 if x == 1 else 0)\n",
    "df['ver_cus'] = df['ver_cus'].apply(lambda x: 1 if x == 1 else 0)\n",
    "\n",
    "sample_weight = df.loc[x_train.index, ['idit_strategic_ver', 'ver_pro', 'ver_cus']].sum(axis=1)\n",
    "sample_weight"
   ]
  },
  {
   "cell_type": "markdown",
   "id": "3caf257b",
   "metadata": {},
   "source": [
    "### 모델 정의 "
   ]
  },
  {
   "cell_type": "code",
   "execution_count": 98,
   "id": "e4509af0",
   "metadata": {},
   "outputs": [
    {
     "data": {
      "text/plain": [
       "'\\nfrom sklearn.ensemble import GradientBoostingClassifier\\nmodel = GradientBoostingClassifier(n_estimators=100, learning_rate=1.0, random_state=42)\\n'"
      ]
     },
     "execution_count": 98,
     "metadata": {},
     "output_type": "execute_result"
    }
   ],
   "source": [
    "# model = DecisionTreeClassifier()\n",
    "\n",
    "\n",
    "# 캣부스트, 범주형 처리\n",
    "from bayes_opt import BayesianOptimization\n",
    "from sklearn.metrics import accuracy_score, precision_score, recall_score, f1_score, confusion_matrix\n",
    "from catboost import CatBoostClassifier, Pool\n",
    "cat_features = ['customer_country', 'business_unit', 'customer_type',\n",
    "                'enterprise', 'customer_job', 'inquiry_type',\n",
    "                'product_category', 'customer_position', 'response_corporate',\n",
    "                'business_area', 'lead_owner', 'customer_job_reduced',\n",
    "               'customer_idx']\n",
    "train_pool = Pool(x_train, y_train, cat_features=cat_features, weight = sample_weight)\n",
    "\"\"\"\n",
    "params = {\n",
    "    'iterations' : 200,\n",
    "    'learning_rate' : 0.6,\n",
    "    'depth' : 8,\n",
    "    'l2_leaf_reg' : 5,\n",
    "    'eval_metric': 'Logloss',\n",
    "    'random_seed': 42,\n",
    "    'verbose': False\n",
    "}\n",
    "model = CatBoostClassifier(**params)\n",
    "\"\"\"\n",
    "model = CatBoostClassifier(iterations=100, depth=5, learning_rate=0.5, loss_function='Logloss')\n",
    "\n",
    "\"\"\"\n",
    "from catboost import CatBoostClassifier\n",
    "model = CatBoostClassifier()\n",
    "\"\"\"\n",
    "\"\"\"\n",
    "from sklearn.ensemble import GradientBoostingClassifier\n",
    "model = GradientBoostingClassifier(n_estimators=100, learning_rate=1.0, random_state=42)\n",
    "\"\"\""
   ]
  },
  {
   "cell_type": "code",
   "execution_count": 99,
   "id": "090bdb26-e4ca-4955-8089-11ec4649bd02",
   "metadata": {},
   "outputs": [
    {
     "name": "stdout",
     "output_type": "stream",
     "text": [
      "<class 'pandas.core.frame.DataFrame'>\n",
      "Index: 47439 entries, 43573 to 53596\n",
      "Data columns (total 21 columns):\n",
      " #   Column                       Non-Null Count  Dtype   \n",
      "---  ------                       --------------  -----   \n",
      " 0   bant_submit                  47439 non-null  float64 \n",
      " 1   customer_country             47439 non-null  category\n",
      " 2   business_unit                47439 non-null  category\n",
      " 3   com_reg_ver_win_rate         11616 non-null  float64 \n",
      " 4   customer_idx                 47439 non-null  category\n",
      " 5   customer_type                47439 non-null  object  \n",
      " 6   enterprise                   47439 non-null  category\n",
      " 7   historical_existing_cnt      47439 non-null  float64 \n",
      " 8   customer_job                 47439 non-null  category\n",
      " 9   lead_desc_length             47439 non-null  float64 \n",
      " 10  inquiry_type                 47439 non-null  category\n",
      " 11  product_category             47439 non-null  category\n",
      " 12  customer_position            47439 non-null  category\n",
      " 13  response_corporate           47439 non-null  category\n",
      " 14  expected_timeline            47439 non-null  int64   \n",
      " 15  ver_win_rate_x               14732 non-null  float64 \n",
      " 16  ver_win_ratio_per_bu         12232 non-null  float64 \n",
      " 17  business_area                47439 non-null  category\n",
      " 18  lead_owner                   47439 non-null  category\n",
      " 19  historical_existing_cnt_log  47439 non-null  float64 \n",
      " 20  customer_job_reduced         47439 non-null  category\n",
      "dtypes: category(12), float64(7), int64(1), object(1)\n",
      "memory usage: 5.7+ MB\n"
     ]
    }
   ],
   "source": [
    "x_train.info()"
   ]
  },
  {
   "cell_type": "markdown",
   "id": "cacd5ed8",
   "metadata": {},
   "source": [
    "### 모델 학습"
   ]
  },
  {
   "cell_type": "code",
   "execution_count": 100,
   "id": "766d1980",
   "metadata": {},
   "outputs": [
    {
     "data": {
      "text/plain": [
       "<catboost.core.CatBoostClassifier at 0x7fbd36bf53c0>"
      ]
     },
     "execution_count": 100,
     "metadata": {},
     "output_type": "execute_result"
    }
   ],
   "source": [
    "# model.fit(train_pool)\n",
    "model.fit(train_pool, verbose=False)\n",
    "# model.fit(x_train.fillna(0), y_train, sample_weight = sample_weight)\n",
    "# model.fit(x_train.fillna(0), y_train, verbose=False, sample_weight = sample_weight)\n",
    "# model.fit(x_train.fillna(0), y_train)"
   ]
  },
  {
   "cell_type": "markdown",
   "id": "6bf2de5f",
   "metadata": {},
   "source": [
    "### 모델 성능 보기"
   ]
  },
  {
   "cell_type": "code",
   "execution_count": 101,
   "id": "c8871444",
   "metadata": {},
   "outputs": [],
   "source": [
    "def get_clf_eval(y_test, y_pred=None):\n",
    "    confusion = confusion_matrix(y_test, y_pred, labels=[True, False])\n",
    "    accuracy = accuracy_score(y_test, y_pred)\n",
    "    precision = precision_score(y_test, y_pred, labels=[True, False])\n",
    "    recall = recall_score(y_test, y_pred)\n",
    "    F1 = f1_score(y_test, y_pred, labels=[True, False])\n",
    "\n",
    "    print(\"오차행렬:\\n\", confusion)\n",
    "    print(\"\\n정확도: {:.4f}\".format(accuracy))\n",
    "    print(\"정밀도: {:.4f}\".format(precision))\n",
    "    print(\"재현율: {:.4f}\".format(recall))\n",
    "    print(\"F1: {:.4f}\".format(F1))"
   ]
  },
  {
   "cell_type": "code",
   "execution_count": 102,
   "id": "56a86373",
   "metadata": {},
   "outputs": [
    {
     "name": "stdout",
     "output_type": "stream",
     "text": [
      "오차행렬:\n",
      " [[  589   358]\n",
      " [   95 10818]]\n",
      "\n",
      "정확도: 0.9618\n",
      "정밀도: 0.8611\n",
      "재현율: 0.6220\n",
      "F1: 0.7223\n"
     ]
    }
   ],
   "source": [
    "pred = model.predict(x_val)\n",
    "pred = [eval(x) for x in pred]\n",
    "get_clf_eval(y_val, pred)"
   ]
  },
  {
   "cell_type": "markdown",
   "id": "7adf8300",
   "metadata": {},
   "source": [
    "## 4. 제출하기"
   ]
  },
  {
   "cell_type": "markdown",
   "id": "9d0b6e17",
   "metadata": {},
   "source": [
    "### 테스트 데이터 예측"
   ]
  },
  {
   "cell_type": "code",
   "execution_count": 103,
   "id": "43daa73c",
   "metadata": {},
   "outputs": [],
   "source": [
    "# 예측에 필요한 데이터 분리\n",
    "x_test = df_test.drop([\"is_converted\", \"id\", \n",
    "                       \"id_strategic_ver\", \"it_strategic_ver\", \"idit_strategic_ver\", \n",
    "                       \"product_subcategory\", \"product_modelname\", \"customer_country.1\", \n",
    "                       \"business_subarea\", \"ver_cus\", \"ver_pro\"], axis=1)"
   ]
  },
  {
   "cell_type": "code",
   "execution_count": 104,
   "id": "d13f7a6e",
   "metadata": {},
   "outputs": [
    {
     "data": {
      "text/plain": [
       "1035"
      ]
     },
     "execution_count": 104,
     "metadata": {},
     "output_type": "execute_result"
    }
   ],
   "source": [
    "test_pred = model.predict(x_test)\n",
    "# sum(test_pred) # True로 예측된 개수\n",
    "\n",
    "test_pred_bool = [x == 'True' for x in test_pred]\n",
    "sum(test_pred_bool)  # True로 예측된 개수"
   ]
  },
  {
   "cell_type": "markdown",
   "id": "47f18e6a",
   "metadata": {},
   "source": [
    "### 제출 파일 작성"
   ]
  },
  {
   "cell_type": "code",
   "execution_count": 105,
   "id": "3128a458",
   "metadata": {},
   "outputs": [],
   "source": [
    "# 제출 데이터 읽어오기 (df_test는 전처리된 데이터가 저장됨)\n",
    "df_sub = pd.read_csv(\"submission.csv\")\n",
    "df_sub[\"is_converted\"] = test_pred\n",
    "\n",
    "# 제출 파일 저장\n",
    "df_sub.to_csv(\"submission.csv\", index=False)"
   ]
  },
  {
   "cell_type": "markdown",
   "id": "ec7867ce",
   "metadata": {},
   "source": [
    "**우측 상단의 제출 버튼을 클릭해 결과를 확인하세요**"
   ]
  },
  {
   "cell_type": "markdown",
   "id": "c79fd778-7e6e-4dff-9fe4-a68b397e946a",
   "metadata": {},
   "source": [
    "## 피처 중요도 확인"
   ]
  },
  {
   "cell_type": "code",
   "execution_count": 106,
   "id": "b2d7e5b4",
   "metadata": {},
   "outputs": [
    {
     "name": "stdout",
     "output_type": "stream",
     "text": [
      "bant_submit : 1.7315610001119586\n",
      "customer_country : 3.458404591513011\n",
      "business_unit : 1.2423267414052659\n",
      "com_reg_ver_win_rate : 2.65422252904817\n",
      "customer_idx : 9.50739024407438\n",
      "customer_type : 14.871215977975098\n",
      "enterprise : 3.738917095684987\n",
      "historical_existing_cnt : 0.6697835826925741\n",
      "customer_job : 2.3005483711196533\n",
      "lead_desc_length : 10.788115421551563\n",
      "inquiry_type : 1.9146249965021285\n",
      "product_category : 5.449196353930953\n",
      "customer_position : 5.91780998976882\n",
      "response_corporate : 4.593934020138995\n",
      "expected_timeline : 4.614770083104731\n",
      "ver_win_rate_x : 0.5248541427536408\n",
      "ver_win_ratio_per_bu : 0.5657503821667701\n",
      "business_area : 1.505075401336265\n",
      "lead_owner : 19.668996168654402\n",
      "historical_existing_cnt_log : 1.5742149663111586\n",
      "customer_job_reduced : 2.7082879401554525\n"
     ]
    }
   ],
   "source": [
    "drop_feature = []\n",
    "for idx, feature, in enumerate(df.columns.drop(['is_converted', 'id_strategic_ver', \n",
    "                                               'it_strategic_ver', 'idit_strategic_ver',\n",
    "                                               \"ver_cus\", \"ver_pro\"])):\n",
    "    # 중요도 낮은 feature 찾기\n",
    "    print('{} : {}'.format(feature,model.feature_importances_[idx]))\n",
    "    if (model.feature_importances_[idx] <= 0.01) == True:\n",
    "        drop_feature.append(feature)"
   ]
  },
  {
   "cell_type": "code",
   "execution_count": 107,
   "id": "6e9e30cd",
   "metadata": {},
   "outputs": [
    {
     "data": {
      "text/plain": [
       "[]"
      ]
     },
     "execution_count": 107,
     "metadata": {},
     "output_type": "execute_result"
    }
   ],
   "source": [
    "drop_feature"
   ]
  },
  {
   "cell_type": "code",
   "execution_count": 108,
   "id": "ea56ce75-454a-4a24-9b6d-044081392aaf",
   "metadata": {},
   "outputs": [
    {
     "data": {
      "text/plain": [
       "<Axes: ylabel='None'>"
      ]
     },
     "execution_count": 108,
     "metadata": {},
     "output_type": "execute_result"
    },
    {
     "data": {
      "image/png": "[encoded data removed]",
      "text/plain": [
       "<Figure size 640x480 with 1 Axes>"
      ]
     },
     "metadata": {},
     "output_type": "display_data"
    }
   ],
   "source": [
    "sns.barplot(x = model.feature_importances_, y = df.columns.drop(['is_converted', 'id_strategic_ver', \n",
    "                                               'it_strategic_ver', 'idit_strategic_ver', 'ver_cus', 'ver_pro']))"
   ]
  },
  {
   "cell_type": "code",
   "execution_count": null,
   "id": "e7a295ed-5e9b-4877-ab15-d2b71c2b1e07",
   "metadata": {},
   "outputs": [],
   "source": []
  }
 ],
 "metadata": {
  "kernelspec": {
   "display_name": "Python 3 (ipykernel)",
   "language": "python",
   "name": "python3"
  },
  "language_info": {
   "codemirror_mode": {
    "name": "ipython",
    "version": 3
   },
   "file_extension": ".py",
   "mimetype": "text/x-python",
   "name": "python",
   "nbconvert_exporter": "python",
   "pygments_lexer": "ipython3",
   "version": "3.10.13"
  }
 },
 "nbformat": 4,
 "nbformat_minor": 5
}
